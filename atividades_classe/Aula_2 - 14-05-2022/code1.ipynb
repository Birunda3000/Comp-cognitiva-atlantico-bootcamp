{
 "cells": [
  {
   "cell_type": "code",
   "execution_count": null,
   "id": "b9a7ab74-1b8e-4173-be3a-067a7443ec1c",
   "metadata": {},
   "outputs": [],
   "source": [
    "# Import Counter and word_tokenize\n",
    "__\n",
    "__\n",
    "\n",
    "from NLP.src.nlp_utils import get_sample_article\n",
    "\n",
    "article = get_sample_article()\n",
    "\n",
    "# Tokenize the article: tokens\n",
    "tokens = ___(__)\n",
    "\n",
    "# Convert the tokens into lowercase: lower_tokens\n",
    "lower_tokens = [__ for t in ___]\n",
    "\n",
    "# Create a Counter with the lowercase tokens: bow_simple\n",
    "bow_simple = __(__)\n",
    "\n",
    "# Print the 10 most common tokens\n",
    "print(___)"
   ]
  }
 ],
 "metadata": {
  "kernelspec": {
   "display_name": "Python 3",
   "language": "python",
   "name": "python3"
  },
  "language_info": {
   "codemirror_mode": {
    "name": "ipython",
    "version": 3
   },
   "file_extension": ".py",
   "mimetype": "text/x-python",
   "name": "python",
   "nbconvert_exporter": "python",
   "pygments_lexer": "ipython3",
   "version": "3.8.10"
  },
  "widgets": {
   "application/vnd.jupyter.widget-state+json": {
    "state": {},
    "version_major": 2,
    "version_minor": 0
   }
  }
 },
 "nbformat": 4,
 "nbformat_minor": 5
}
