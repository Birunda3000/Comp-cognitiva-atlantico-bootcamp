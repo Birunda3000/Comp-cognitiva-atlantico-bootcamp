{
 "cells": [
  {
   "cell_type": "code",
   "execution_count": null,
   "id": "272b377b-6a71-4b03-8d0f-1ed4e3b0df5b",
   "metadata": {},
   "outputs": [],
   "source": [
    "# Import Dictionary\n",
    "___\n",
    "from NLP.src.nlp_utils import get_pre_process_wiki_articles\n",
    "\n",
    "# Create a Dictionary from the articles: dictionary\n",
    "articles = get_pre_process_wiki_articles()\n",
    "dictionary =___(___)\n",
    "\n",
    "# Select the id for \"computer\": computer_id\n",
    "computer_id = __(__)\n",
    "\n",
    "# Use computer_id with the dictionary to print the word\n",
    "print('the word', __, 'has index', __, 'in dictionary')\n",
    "\n",
    "# Create a MmCorpus: corpus\n",
    "corpus = [_._(_) for article in _]\n",
    "\n",
    "# Print the first 10 word ids with their frequency counts from the fifth document\n",
    "print(corpus[_][:_])"
   ]
  }
 ],
 "metadata": {
  "kernelspec": {
   "display_name": "Python 3",
   "language": "python",
   "name": "python3"
  },
  "language_info": {
   "codemirror_mode": {
    "name": "ipython",
    "version": 3
   },
   "file_extension": ".py",
   "mimetype": "text/x-python",
   "name": "python",
   "nbconvert_exporter": "python",
   "pygments_lexer": "ipython3",
   "version": "3.8.10"
  },
  "widgets": {
   "application/vnd.jupyter.widget-state+json": {
    "state": {},
    "version_major": 2,
    "version_minor": 0
   }
  }
 },
 "nbformat": 4,
 "nbformat_minor": 5
}
