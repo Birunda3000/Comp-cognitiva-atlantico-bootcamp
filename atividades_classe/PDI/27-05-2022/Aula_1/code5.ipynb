{
 "cells": [
  {
   "cell_type": "code",
   "execution_count": null,
   "id": "0ad69ad2-f65c-459e-b665-e90050bae19b",
   "metadata": {},
   "outputs": [],
   "source": [
    "from skimage.color import rgb2gray\n",
    "import sys\n",
    "sys.path.insert (1, '../src')\n",
    "from pdi_utils import load_page_image,show_image,manual_rgb2gray\n",
    "# Import the otsu threshold function\n",
    "from skimage.____ import ____\n",
    "\n",
    "page_image = manual_rgb2gray(load_page_image())\n",
    "# Show original image\n",
    "show_image(page_image, 'Global thresholding')\n",
    "\n",
    "# Obtain the optimal otsu global thresh value\n",
    "global_thresh = ____(page_image)\n",
    "\n",
    "# Obtain the binary image by applying global thresholding\n",
    "binary_global = page_image ____ ____\n",
    "\n",
    "# Show the binary image obtained\n",
    "show_image(binary_global, 'Global thresholding')\n",
    "\n",
    "# Set the block size to 35\n",
    "block_size = ____\n",
    "\n",
    "# Obtain the optimal local thresholding\n",
    "local_thresh = ____(____, ____, offset=10)\n",
    "\n",
    "# Obtain the binary image by applying local thresholding\n",
    "binary_local = page_image ____ ____\n",
    "\n",
    "# Show the binary image\n",
    "show_image(binary_local, 'Local thresholding')"
   ]
  }
 ],
 "metadata": {
  "kernelspec": {
   "display_name": "Python 3",
   "language": "python",
   "name": "python3"
  },
  "language_info": {
   "codemirror_mode": {
    "name": "ipython",
    "version": 3
   },
   "file_extension": ".py",
   "mimetype": "text/x-python",
   "name": "python",
   "nbconvert_exporter": "python",
   "pygments_lexer": "ipython3",
   "version": "3.8.10"
  },
  "widgets": {
   "application/vnd.jupyter.widget-state+json": {
    "state": {},
    "version_major": 2,
    "version_minor": 0
   }
  }
 },
 "nbformat": 4,
 "nbformat_minor": 5
}
