{
 "cells": [
  {
   "cell_type": "code",
   "execution_count": 1,
   "id": "e0b13c3d-e143-4108-a7d7-815c79581bd9",
   "metadata": {},
   "outputs": [],
   "source": [
    "import matplotlib.pyplot as plt\n",
    "import re\n",
    "from nltk.tokenize import regexp_tokenize\n",
    "from nlp_utils import get_sample_Santo_Graal"
   ]
  },
  {
   "cell_type": "code",
   "execution_count": 2,
   "id": "28b7e351-0624-4cc9-a32c-e3db47f1ef11",
   "metadata": {
    "collapsed": true,
    "jupyter": {
     "outputs_hidden": true
    },
    "tags": []
   },
   "outputs": [
    {
     "name": "stdout",
     "output_type": "stream",
     "text": [
      "['SCENE 1: [wind] [clop clop clop] ', ' KING ARTHUR: Whoa there!  [clop clop clop] ', 'SOLDIER #1: Halt!  Who goes there?', 'ARTHUR: It is I, Arthur, son of Uther Pendragon, from the castle of Camelot.  King of the Britons, defeator of the Saxons, sovereign of all England!', 'SOLDIER #1: Pull the other one!', 'ARTHUR: I am, ...  and this is my trusty servant Patsy.  We have ridden the length and breadth of the land in search of knights who will join me in my court at Camelot.  I must speak with your lord and master.', 'SOLDIER #1: What?  Ridden on a horse?', 'ARTHUR: Yes!', \"SOLDIER #1: You're using coconuts!\", 'ARTHUR: What?', \"SOLDIER #1: You've got two empty halves of coconut and you're bangin' 'em together.\", 'ARTHUR: So?  We have ridden since the snows of winter covered this land, through the kingdom of Mercea, through--', \"SOLDIER #1: Where'd you get the coconuts?\", 'ARTHUR: We found them.', \"SOLDIER #1: Found them?  In Mercea?  The coconut's tropical!\", 'ARTHUR: What do you mean?', 'SOLDIER #1: Well, this is a temperate zone.', 'ARTHUR: The swallow may fly south with the sun or the house martin or the plover may seek warmer climes in winter, yet these are not strangers to our land?', 'SOLDIER #1: Are you suggesting coconuts migrate?', 'ARTHUR: Not at all.  They could be carried.', 'SOLDIER #1: What?  A swallow carrying a coconut?', 'ARTHUR: It could grip it by the husk!', \"SOLDIER #1: It's not a question of where he grips it!  It's a simple question of weight ratios!  A five ounce bird could not carry a one pound coconut.\", \"ARTHUR: Well, it doesn't matter.  Will you go and tell your master that Arthur from the Court of Camelot is here.\", 'SOLDIER #1: Listen.  In order to maintain air-speed velocity, a swallow needs to beat its wings forty-three times every second, right?', 'ARTHUR: Please!', 'SOLDIER #1: Am I right?', \"ARTHUR: I'm not interested!\", 'SOLDIER #2: It could be carried by an African swallow!', \"SOLDIER #1: Oh, yeah, an African swallow maybe, but not a European swallow.  That's my point.\", 'SOLDIER #2: Oh, yeah, I agree with that.', 'ARTHUR: Will you ask your master if he wants to join my court at Camelot?!', 'SOLDIER #1: But then of course a-- African swallows are non-migratory.', 'SOLDIER #2: Oh, yeah...', \"SOLDIER #1: So they couldn't bring a coconut back anyway...  [clop clop clop] \", 'SOLDIER #2: Wait a minute!  Supposing two swallows carried it together?', \"SOLDIER #1: No, they'd have to have it on a line.\", \"SOLDIER #2: Well, simple!  They'd just use a strand of creeper!\", 'SOLDIER #1: What, held under the dorsal guiding feathers?', 'SOLDIER #2: Well, why not?', '']\n"
     ]
    }
   ],
   "source": [
    "# Split the script into lines: lines\n",
    "holy_grail = get_sample_Santo_Graal()\n",
    "lines = holy_grail.split('\\n')\n",
    "print(lines)"
   ]
  },
  {
   "cell_type": "code",
   "execution_count": 3,
   "id": "20e9ef17-2e3a-4d0d-9d73-cd77a6865b64",
   "metadata": {
    "collapsed": true,
    "jupyter": {
     "outputs_hidden": true
    },
    "tags": []
   },
   "outputs": [
    {
     "name": "stdout",
     "output_type": "stream",
     "text": [
      "   Whoa there!  [clop clop clop] \n"
     ]
    }
   ],
   "source": [
    "# Replace all script lines for speaker\n",
    "pattern = \"[A-Z]{2,}(\\s)?(#\\d)?([A-Z]{2,})?:\"\n",
    "lines = [re.sub(pattern, ' ', l) for l in lines]\n",
    "print(lines[1])"
   ]
  },
  {
   "cell_type": "code",
   "execution_count": 4,
   "id": "e552db21-0165-4019-bfc8-745c5ff56103",
   "metadata": {
    "collapsed": true,
    "jupyter": {
     "outputs_hidden": true
    },
    "tags": []
   },
   "outputs": [
    {
     "name": "stdout",
     "output_type": "stream",
     "text": [
      "[['SCENE', '1', 'wind', 'clop', 'clop', 'clop'], ['Whoa', 'there', 'clop', 'clop', 'clop'], ['Halt', 'Who', 'goes', 'there'], ['It', 'is', 'I', 'Arthur', 'son', 'of', 'Uther', 'Pendragon', 'from', 'the', 'castle', 'of', 'Camelot', 'King', 'of', 'the', 'Britons', 'defeator', 'of', 'the', 'Saxons', 'sovereign', 'of', 'all', 'England'], ['Pull', 'the', 'other', 'one'], ['I', 'am', 'and', 'this', 'is', 'my', 'trusty', 'servant', 'Patsy', 'We', 'have', 'ridden', 'the', 'length', 'and', 'breadth', 'of', 'the', 'land', 'in', 'search', 'of', 'knights', 'who', 'will', 'join', 'me', 'in', 'my', 'court', 'at', 'Camelot', 'I', 'must', 'speak', 'with', 'your', 'lord', 'and', 'master'], ['What', 'Ridden', 'on', 'a', 'horse'], ['Yes'], ['You', 're', 'using', 'coconuts'], ['What'], ['You', 've', 'got', 'two', 'empty', 'halves', 'of', 'coconut', 'and', 'you', 're', 'bangin', 'em', 'together'], ['So', 'We', 'have', 'ridden', 'since', 'the', 'snows', 'of', 'winter', 'covered', 'this', 'land', 'through', 'the', 'kingdom', 'of', 'Mercea', 'through'], ['Where', 'd', 'you', 'get', 'the', 'coconuts'], ['We', 'found', 'them'], ['Found', 'them', 'In', 'Mercea', 'The', 'coconut', 's', 'tropical'], ['What', 'do', 'you', 'mean'], ['Well', 'this', 'is', 'a', 'temperate', 'zone'], ['The', 'swallow', 'may', 'fly', 'south', 'with', 'the', 'sun', 'or', 'the', 'house', 'martin', 'or', 'the', 'plover', 'may', 'seek', 'warmer', 'climes', 'in', 'winter', 'yet', 'these', 'are', 'not', 'strangers', 'to', 'our', 'land'], ['Are', 'you', 'suggesting', 'coconuts', 'migrate'], ['Not', 'at', 'all', 'They', 'could', 'be', 'carried'], ['What', 'A', 'swallow', 'carrying', 'a', 'coconut'], ['It', 'could', 'grip', 'it', 'by', 'the', 'husk'], ['It', 's', 'not', 'a', 'question', 'of', 'where', 'he', 'grips', 'it', 'It', 's', 'a', 'simple', 'question', 'of', 'weight', 'ratios', 'A', 'five', 'ounce', 'bird', 'could', 'not', 'carry', 'a', 'one', 'pound', 'coconut'], ['Well', 'it', 'doesn', 't', 'matter', 'Will', 'you', 'go', 'and', 'tell', 'your', 'master', 'that', 'Arthur', 'from', 'the', 'Court', 'of', 'Camelot', 'is', 'here'], ['Listen', 'In', 'order', 'to', 'maintain', 'air', 'speed', 'velocity', 'a', 'swallow', 'needs', 'to', 'beat', 'its', 'wings', 'forty', 'three', 'times', 'every', 'second', 'right'], ['Please'], ['Am', 'I', 'right'], ['I', 'm', 'not', 'interested'], ['It', 'could', 'be', 'carried', 'by', 'an', 'African', 'swallow'], ['Oh', 'yeah', 'an', 'African', 'swallow', 'maybe', 'but', 'not', 'a', 'European', 'swallow', 'That', 's', 'my', 'point'], ['Oh', 'yeah', 'I', 'agree', 'with', 'that'], ['Will', 'you', 'ask', 'your', 'master', 'if', 'he', 'wants', 'to', 'join', 'my', 'court', 'at', 'Camelot'], ['But', 'then', 'of', 'course', 'a', 'African', 'swallows', 'are', 'non', 'migratory'], ['Oh', 'yeah'], ['So', 'they', 'couldn', 't', 'bring', 'a', 'coconut', 'back', 'anyway', 'clop', 'clop', 'clop'], ['Wait', 'a', 'minute', 'Supposing', 'two', 'swallows', 'carried', 'it', 'together'], ['No', 'they', 'd', 'have', 'to', 'have', 'it', 'on', 'a', 'line'], ['Well', 'simple', 'They', 'd', 'just', 'use', 'a', 'strand', 'of', 'creeper'], ['What', 'held', 'under', 'the', 'dorsal', 'guiding', 'feathers'], ['Well', 'why', 'not'], []]\n"
     ]
    }
   ],
   "source": [
    "# Tokenize each line: tokenized_lines\n",
    "tokenized_lines = [regexp_tokenize(s,\"\\w+\") for s in lines]\n",
    "print(tokenized_lines)"
   ]
  },
  {
   "cell_type": "code",
   "execution_count": 5,
   "id": "1fd04b04-0787-4b89-8eb3-4d4dd1f1792a",
   "metadata": {},
   "outputs": [],
   "source": [
    "# Make a frequency list of lengths: line_num_words\n",
    "line_num_words = [len(t_line) for t_line in tokenized_lines]"
   ]
  },
  {
   "cell_type": "code",
   "execution_count": 6,
   "id": "a07ddf47-381b-42da-8038-2b5437ee4b04",
   "metadata": {},
   "outputs": [
    {
     "data": {
      "image/png": "[encoded data removed]",
      "text/plain": [
       "<Figure size 432x288 with 1 Axes>"
      ]
     },
     "metadata": {
      "needs_background": "light"
     },
     "output_type": "display_data"
    }
   ],
   "source": [
    "# Plot a histogram of the line lengths\n",
    "plt.hist(line_num_words)\n",
    "# Show the plot\n",
    "plt.show()"
   ]
  }
 ],
 "metadata": {
  "kernelspec": {
   "display_name": "Python 3",
   "language": "python",
   "name": "python3"
  },
  "language_info": {
   "codemirror_mode": {
    "name": "ipython",
    "version": 3
   },
   "file_extension": ".py",
   "mimetype": "text/x-python",
   "name": "python",
   "nbconvert_exporter": "python",
   "pygments_lexer": "ipython3",
   "version": "3.8.10"
  },
  "widgets": {
   "application/vnd.jupyter.widget-state+json": {
    "state": {},
    "version_major": 2,
    "version_minor": 0
   }
  }
 },
 "nbformat": 4,
 "nbformat_minor": 5
}
