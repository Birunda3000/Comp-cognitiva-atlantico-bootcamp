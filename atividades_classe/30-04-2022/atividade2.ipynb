{
 "cells": [
  {
   "cell_type": "code",
   "execution_count": 1,
   "id": "dcd0a131-5ab9-4771-ad0d-a7723612d25b",
   "metadata": {},
   "outputs": [],
   "source": [
    "# Import necessary modules\n",
    "from nltk.tokenize import sent_tokenize , word_tokenize\n",
    "from nlp_utils import get_sample_Santo_Graal"
   ]
  },
  {
   "cell_type": "code",
   "execution_count": 2,
   "id": "3f1e67f8-2b44-47ed-a3b4-0eff129d64af",
   "metadata": {
    "tags": []
   },
   "outputs": [
    {
     "name": "stdout",
     "output_type": "stream",
     "text": [
      "['SCENE', '1', ':', '[', 'wind', ']', '[', 'clop', 'clop', 'clop', ']', 'KING', 'ARTHUR', ':', 'Whoa', 'there', '!', '[', 'clop', 'clop', 'clop', ']', 'SOLDIER', '#', '1', ':', 'Halt', '!', 'Who', 'goes', 'there', '?', 'ARTHUR', ':', 'It', 'is', 'I', ',', 'Arthur', ',', 'son', 'of', 'Uther', 'Pendragon', ',', 'from', 'the', 'castle', 'of', 'Camelot', '.', 'King', 'of', 'the', 'Britons', ',', 'defeator', 'of', 'the', 'Saxons', ',', 'sovereign', 'of', 'all', 'England', '!', 'SOLDIER', '#', '1', ':', 'Pull', 'the', 'other', 'one', '!', 'ARTHUR', ':', 'I', 'am', ',', '...', 'and', 'this', 'is', 'my', 'trusty', 'servant', 'Patsy', '.', 'We', 'have', 'ridden', 'the', 'length', 'and', 'breadth', 'of', 'the', 'land', 'in', 'search', 'of', 'knights', 'who', 'will', 'join', 'me', 'in', 'my', 'court', 'at', 'Camelot', '.', 'I', 'must', 'speak', 'with', 'your', 'lord', 'and', 'master', '.', 'SOLDIER', '#', '1', ':', 'What', '?', 'Ridden', 'on', 'a', 'horse', '?', 'ARTHUR', ':', 'Yes', '!', 'SOLDIER', '#', '1', ':', 'You', \"'re\", 'using', 'coconuts', '!', 'ARTHUR', ':', 'What', '?', 'SOLDIER', '#', '1', ':', 'You', \"'ve\", 'got', 'two', 'empty', 'halves', 'of', 'coconut', 'and', 'you', \"'re\", 'bangin', \"'\", \"'em\", 'together', '.', 'ARTHUR', ':', 'So', '?', 'We', 'have', 'ridden', 'since', 'the', 'snows', 'of', 'winter', 'covered', 'this', 'land', ',', 'through', 'the', 'kingdom', 'of', 'Mercea', ',', 'through', '--', 'SOLDIER', '#', '1', ':', 'Where', \"'d\", 'you', 'get', 'the', 'coconuts', '?', 'ARTHUR', ':', 'We', 'found', 'them', '.', 'SOLDIER', '#', '1', ':', 'Found', 'them', '?', 'In', 'Mercea', '?', 'The', 'coconut', \"'s\", 'tropical', '!', 'ARTHUR', ':', 'What', 'do', 'you', 'mean', '?', 'SOLDIER', '#', '1', ':', 'Well', ',', 'this', 'is', 'a', 'temperate', 'zone', '.', 'ARTHUR', ':', 'The', 'swallow', 'may', 'fly', 'south', 'with', 'the', 'sun', 'or', 'the', 'house', 'martin', 'or', 'the', 'plover', 'may', 'seek', 'warmer', 'climes', 'in', 'winter', ',', 'yet', 'these', 'are', 'not', 'strangers', 'to', 'our', 'land', '?', 'SOLDIER', '#', '1', ':', 'Are', 'you', 'suggesting', 'coconuts', 'migrate', '?', 'ARTHUR', ':', 'Not', 'at', 'all', '.', 'They', 'could', 'be', 'carried', '.', 'SOLDIER', '#', '1', ':', 'What', '?', 'A', 'swallow', 'carrying', 'a', 'coconut', '?', 'ARTHUR', ':', 'It', 'could', 'grip', 'it', 'by', 'the', 'husk', '!', 'SOLDIER', '#', '1', ':', 'It', \"'s\", 'not', 'a', 'question', 'of', 'where', 'he', 'grips', 'it', '!', 'It', \"'s\", 'a', 'simple', 'question', 'of', 'weight', 'ratios', '!', 'A', 'five', 'ounce', 'bird', 'could', 'not', 'carry', 'a', 'one', 'pound', 'coconut', '.', 'ARTHUR', ':', 'Well', ',', 'it', 'does', \"n't\", 'matter', '.', 'Will', 'you', 'go', 'and', 'tell', 'your', 'master', 'that', 'Arthur', 'from', 'the', 'Court', 'of', 'Camelot', 'is', 'here', '.', 'SOLDIER', '#', '1', ':', 'Listen', '.', 'In', 'order', 'to', 'maintain', 'air-speed', 'velocity', ',', 'a', 'swallow', 'needs', 'to', 'beat', 'its', 'wings', 'forty-three', 'times', 'every', 'second', ',', 'right', '?', 'ARTHUR', ':', 'Please', '!', 'SOLDIER', '#', '1', ':', 'Am', 'I', 'right', '?', 'ARTHUR', ':', 'I', \"'m\", 'not', 'interested', '!', 'SOLDIER', '#', '2', ':', 'It', 'could', 'be', 'carried', 'by', 'an', 'African', 'swallow', '!', 'SOLDIER', '#', '1', ':', 'Oh', ',', 'yeah', ',', 'an', 'African', 'swallow', 'maybe', ',', 'but', 'not', 'a', 'European', 'swallow', '.', 'That', \"'s\", 'my', 'point', '.', 'SOLDIER', '#', '2', ':', 'Oh', ',', 'yeah', ',', 'I', 'agree', 'with', 'that', '.', 'ARTHUR', ':', 'Will', 'you', 'ask', 'your', 'master', 'if', 'he', 'wants', 'to', 'join', 'my', 'court', 'at', 'Camelot', '?', '!', 'SOLDIER', '#', '1', ':', 'But', 'then', 'of', 'course', 'a', '--', 'African', 'swallows', 'are', 'non-migratory', '.', 'SOLDIER', '#', '2', ':', 'Oh', ',', 'yeah', '...', 'SOLDIER', '#', '1', ':', 'So', 'they', 'could', \"n't\", 'bring', 'a', 'coconut', 'back', 'anyway', '...', '[', 'clop', 'clop', 'clop', ']', 'SOLDIER', '#', '2', ':', 'Wait', 'a', 'minute', '!', 'Supposing', 'two', 'swallows', 'carried', 'it', 'together', '?', 'SOLDIER', '#', '1', ':', 'No', ',', 'they', \"'d\", 'have', 'to', 'have', 'it', 'on', 'a', 'line', '.', 'SOLDIER', '#', '2', ':', 'Well', ',', 'simple', '!', 'They', \"'d\", 'just', 'use', 'a', 'strand', 'of', 'creeper', '!', 'SOLDIER', '#', '1', ':', 'What', ',', 'held', 'under', 'the', 'dorsal', 'guiding', 'feathers', '?', 'SOLDIER', '#', '2', ':', 'Well', ',', 'why', 'not', '?']\n"
     ]
    }
   ],
   "source": [
    "print(word_tokenize(get_sample_Santo_Graal()))"
   ]
  },
  {
   "cell_type": "code",
   "execution_count": 3,
   "id": "e716e608-4019-43ee-b251-7e77a41874b5",
   "metadata": {},
   "outputs": [
    {
     "name": "stdout",
     "output_type": "stream",
     "text": [
      "SCENE 1: [wind] [clop clop clop] \n",
      " KING ARTHUR: Whoa there!\n"
     ]
    }
   ],
   "source": [
    "# Split scene_one into sentences: sentences\n",
    "scene_one = get_sample_Santo_Graal()\n",
    "sentences = sent_tokenize(scene_one)\n",
    "print(sentences[0])"
   ]
  },
  {
   "cell_type": "code",
   "execution_count": 4,
   "id": "cceace9a-8ec2-4b66-9805-fb178f7b0389",
   "metadata": {},
   "outputs": [
    {
     "name": "stdout",
     "output_type": "stream",
     "text": [
      "['ARTHUR', ':', 'It', 'is', 'I', ',', 'Arthur', ',', 'son', 'of', 'Uther', 'Pendragon', ',', 'from', 'the', 'castle', 'of', 'Camelot', '.']\n"
     ]
    }
   ],
   "source": [
    "# Use word_tokenize to tokenize the fourth sentence: tokenized_sent\n",
    "tokenized_sent = word_tokenize(sentences[3])\n",
    "print(tokenized_sent)"
   ]
  },
  {
   "cell_type": "code",
   "execution_count": 5,
   "id": "5eb23332-b42c-4def-ba25-a3f55924094b",
   "metadata": {},
   "outputs": [],
   "source": [
    "# Make a set of unique tokens in the entire scene: unique_tokens\n",
    "unique_tokens = set(word_tokenize(get_sample_Santo_Graal()))"
   ]
  },
  {
   "cell_type": "code",
   "execution_count": 6,
   "id": "70ba39db-4e1b-4ef6-a629-38dd5f0579a0",
   "metadata": {},
   "outputs": [
    {
     "name": "stdout",
     "output_type": "stream",
     "text": [
      "{'climes', 'two', 'not', 'Please', 'I', '!', 'at', 'since', 'mean', 'A', 'held', 'bird', 'empty', 'They', 'velocity', 'in', 'KING', \"'\", 'trusty', 'covered', 'The', 'wings', 'You', 'through', 'servant', ',', 'length', 'non-migratory', 'Halt', 'your', 'Will', '?', 'to', 'Wait', ']', 'yeah', 'and', 'ARTHUR', 'Ridden', 'land', \"'d\", 'seek', 'That', 'must', '.', 'Pull', 'Britons', 'carrying', 'Oh', 'join', 'swallow', 'ask', 'feathers', 'why', 'he', 'suggesting', 'there', 'every', 'We', 'halves', 'them', 'tropical', 'needs', 'get', 'got', 'its', 'strangers', 'south', 'house', \"'s\", 'castle', 'under', 'have', 'is', 'knights', 'master', 'an', 'weight', 'a', 'go', 'martin', 'Yes', 'matter', 'found', 'coconuts', 'these', 'grips', 'maintain', 'will', 'on', 'Who', 'temperate', 'could', 'grip', 'if', 'strand', 'forty-three', 'right', 'fly', 'Well', 'SOLDIER', 'order', 'dorsal', 'line', 'breadth', 'our', 'interested', 'creeper', 'migrate', 'carried', 'five', 'air-speed', 'one', '[', 'zone', 'course', 'here', 'warmer', 'but', 'use', 'sun', '1', 'Supposing', 'So', 'goes', 'my', 'No', 'kingdom', 'point', 'coconut', 'ridden', 'court', 'yet', 'ratios', 'maybe', 'the', 'then', 'Are', 'Pendragon', 'Uther', 'with', 'Camelot', '#', 'Whoa', 'wind', 'speak', 'Where', 'does', ':', 'that', 'Listen', 'who', 'European', '...', '--', 'guiding', \"'ve\", 'lord', 'bangin', 'In', 'may', 'simple', 'Arthur', 'agree', 'It', 'horse', 'What', 'times', 'King', 'wants', 'SCENE', 'clop', 'be', 'snows', 'tell', 'of', 'carry', 'second', \"'m\", 'me', '2', 'husk', \"'em\", 'Not', \"'re\", 'beat', 'minute', 'other', 'But', 'Am', 'son', 'are', 'it', 'just', 'Patsy', 'using', 'ounce', 'Mercea', 'sovereign', 'all', 'bring', 'this', 'together', 'anyway', 'am', 'from', 'Saxons', 'you', 'plover', 'or', 'pound', 'by', \"n't\", 'they', 'winter', 'do', 'England', 'swallows', 'Court', 'back', 'search', 'question', 'defeator', 'African', 'Found', 'where'}\n"
     ]
    }
   ],
   "source": [
    "# Print the unique tokens result\n",
    "print(unique_tokens)"
   ]
  }
 ],
 "metadata": {
  "kernelspec": {
   "display_name": "Python 3",
   "language": "python",
   "name": "python3"
  },
  "language_info": {
   "codemirror_mode": {
    "name": "ipython",
    "version": 3
   },
   "file_extension": ".py",
   "mimetype": "text/x-python",
   "name": "python",
   "nbconvert_exporter": "python",
   "pygments_lexer": "ipython3",
   "version": "3.8.10"
  },
  "widgets": {
   "application/vnd.jupyter.widget-state+json": {
    "state": {},
    "version_major": 2,
    "version_minor": 0
   }
  }
 },
 "nbformat": 4,
 "nbformat_minor": 5
}
