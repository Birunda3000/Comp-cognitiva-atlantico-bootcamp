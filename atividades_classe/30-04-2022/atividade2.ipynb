{
 "cells": [
  {
   "cell_type": "code",
   "execution_count": 1,
   "id": "dcd0a131-5ab9-4771-ad0d-a7723612d25b",
   "metadata": {},
   "outputs": [],
   "source": [
    "# Import necessary modules\n",
    "from nltk.tokenize import sent_tokenize , word_tokenize\n",
    "from nlp_utils import get_sample_Santo_Graal"
   ]
  },
  {
   "cell_type": "code",
   "execution_count": 2,
   "id": "3f1e67f8-2b44-47ed-a3b4-0eff129d64af",
   "metadata": {
    "tags": []
   },
   "outputs": [],
   "source": [
    "#print(word_tokenize(get_sample_Santo_Graal()))"
   ]
  },
  {
   "cell_type": "code",
   "execution_count": 3,
   "id": "e716e608-4019-43ee-b251-7e77a41874b5",
   "metadata": {},
   "outputs": [
    {
     "name": "stdout",
     "output_type": "stream",
     "text": [
      "SCENE 1: [wind] [clop clop clop] \n",
      " KING ARTHUR: Whoa there!\n"
     ]
    }
   ],
   "source": [
    "# Split scene_one into sentences: sentences\n",
    "scene_one = get_sample_Santo_Graal()\n",
    "sentences = sent_tokenize(scene_one)\n",
    "print(sentences[0])"
   ]
  },
  {
   "cell_type": "code",
   "execution_count": 4,
   "id": "cceace9a-8ec2-4b66-9805-fb178f7b0389",
   "metadata": {},
   "outputs": [
    {
     "name": "stdout",
     "output_type": "stream",
     "text": [
      "['ARTHUR', ':', 'It', 'is', 'I', ',', 'Arthur', ',', 'son', 'of', 'Uther', 'Pendragon', ',', 'from', 'the', 'castle', 'of', 'Camelot', '.']\n"
     ]
    }
   ],
   "source": [
    "# Use word_tokenize to tokenize the fourth sentence: tokenized_sent\n",
    "tokenized_sent = word_tokenize(sentences[3])\n",
    "print(tokenized_sent)"
   ]
  },
  {
   "cell_type": "code",
   "execution_count": 5,
   "id": "5eb23332-b42c-4def-ba25-a3f55924094b",
   "metadata": {},
   "outputs": [],
   "source": [
    "# Make a set of unique tokens in the entire scene: unique_tokens\n",
    "unique_tokens = set(word_tokenize(get_sample_Santo_Graal()))"
   ]
  },
  {
   "cell_type": "code",
   "execution_count": 6,
   "id": "70ba39db-4e1b-4ef6-a629-38dd5f0579a0",
   "metadata": {},
   "outputs": [
    {
     "name": "stdout",
     "output_type": "stream",
     "text": [
      "{'be', 'zone', 'with', 'coconuts', 'sun', 'swallows', 'found', 'the', 'two', 'needs', 'these', 'under', 'ARTHUR', 'fly', 'right', 'anyway', 'snows', 'migrate', 'Where', 'held', 'suggesting', 'feathers', 'lord', 'Britons', 'carried', '1', 'am', 'at', 'yeah', 'Ridden', 'minute', 'speak', 'court', 'creeper', '--', 'tropical', \"n't\", 'Arthur', 'that', 'get', 'not', 'wings', 'and', 'your', 'if', 'So', 'strangers', 'Found', 'to', 'I', 'Not', 'mean', 'The', 'he', 'are', 'do', 'by', 'empty', 'Please', 'Patsy', 'or', 'winter', 'one', 'warmer', 'house', 'my', 'tell', 'swallow', 'then', 'use', 'weight', 'bird', 'Court', 'times', 'may', 'yet', 'Well', 'this', 'SCENE', 'martin', 'every', 'strand', 'trusty', 'together', ']', \"'s\", 'length', 'it', 'course', 'In', 'simple', 'Saxons', 'go', 'order', 'will', 'since', 'servant', \"'ve\", '.', 'carrying', 'matter', 'Am', 'there', 'master', 'You', 'A', 'African', ',', '...', \"'\", 'five', 'question', 'they', 'got', 'here', 'ridden', 'That', 'its', 'No', 'Wait', 'through', 'King', 'dorsal', 'land', 'SOLDIER', 'search', 'sovereign', ':', 'second', 'in', 'knights', 'halves', 'Pendragon', 'guiding', 'Supposing', 'It', 'join', 'does', 'could', 'all', 'them', 'clop', 'an', 'from', 'Will', 'agree', 'Halt', 'covered', 'We', 'Yes', 'our', '!', 'defeator', 'using', 'where', 'back', 'Uther', 'me', 'forty-three', \"'em\", 'is', 'bangin', 'But', 'other', 'ounce', 'European', 'bring', 'grips', 'Oh', 'coconut', 'pound', 'Are', 'carry', 'on', 'who', \"'d\", 'breadth', 'south', 'kingdom', 'wants', 'have', 'England', 'beat', 'wind', 'climes', 'you', '[', 'ask', 'non-migratory', 'seek', 'must', 'a', 'Mercea', 'son', 'plover', 'of', 'but', 'Whoa', 'What', 'Listen', 'point', \"'re\", 'interested', 'line', 'why', 'ratios', 'velocity', 'goes', 'horse', \"'m\", 'maybe', 'maintain', 'KING', 'temperate', 'air-speed', '2', '?', 'husk', 'Camelot', 'Pull', 'They', 'grip', '#', 'just', 'Who', 'castle'}\n"
     ]
    }
   ],
   "source": [
    "# Print the unique tokens result\n",
    "print(unique_tokens)"
   ]
  }
 ],
 "metadata": {
  "kernelspec": {
   "display_name": "Python 3",
   "language": "python",
   "name": "python3"
  },
  "language_info": {
   "codemirror_mode": {
    "name": "ipython",
    "version": 3
   },
   "file_extension": ".py",
   "mimetype": "text/x-python",
   "name": "python",
   "nbconvert_exporter": "python",
   "pygments_lexer": "ipython3",
   "version": "3.8.10"
  },
  "widgets": {
   "application/vnd.jupyter.widget-state+json": {
    "state": {},
    "version_major": 2,
    "version_minor": 0
   }
  }
 },
 "nbformat": 4,
 "nbformat_minor": 5
}
