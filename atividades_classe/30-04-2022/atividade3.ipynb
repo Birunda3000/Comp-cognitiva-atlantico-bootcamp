{
 "cells": [
  {
   "cell_type": "code",
   "execution_count": 1,
   "id": "fb860152-2432-401a-8a8e-7dd2c748992c",
   "metadata": {},
   "outputs": [],
   "source": [
    "from nltk.tokenize import sent_tokenize\n",
    "from nlp_utils import get_sample_Santo_Graal\n",
    "import re"
   ]
  },
  {
   "cell_type": "code",
   "execution_count": 2,
   "id": "8ce5b095-5ed6-4d84-bf3d-836c977e6ace",
   "metadata": {},
   "outputs": [],
   "source": [
    "scene_one =  get_sample_Santo_Graal()\n",
    "sentences =  sent_tokenize(scene_one)\n",
    "# Search for the first occurrence of \"coconuts\" in scene_one: match\n",
    "match = re.search('coconuts', scene_one)"
   ]
  },
  {
   "cell_type": "code",
   "execution_count": 3,
   "id": "05fc26c2-f39c-4e97-8d31-2803c7fc805d",
   "metadata": {},
   "outputs": [
    {
     "name": "stdout",
     "output_type": "stream",
     "text": [
      "581 589\n",
      "<re.Match object; span=(581, 589), match='coconuts'>\n"
     ]
    }
   ],
   "source": [
    "# Print the start and end indexes of match\n",
    "print(match.start(), match.end())\n",
    "print (match)"
   ]
  },
  {
   "cell_type": "code",
   "execution_count": 4,
   "id": "69fec2e8-9d36-45d5-bbcd-027686a289ae",
   "metadata": {},
   "outputs": [],
   "source": [
    "# Write a regular expression to search for anything in square brackets: pattern1\n",
    "pattern1 = \"\\[.*\\]\""
   ]
  },
  {
   "cell_type": "code",
   "execution_count": 5,
   "id": "1cd51a6d-dc24-4768-9898-741a7f139893",
   "metadata": {},
   "outputs": [
    {
     "name": "stdout",
     "output_type": "stream",
     "text": [
      "<re.Match object; span=(9, 32), match='[wind] [clop clop clop]'>\n"
     ]
    }
   ],
   "source": [
    "# Use re.search to find the first text in square brackets\n",
    "print(re.search(pattern1, scene_one))"
   ]
  },
  {
   "cell_type": "code",
   "execution_count": 6,
   "id": "4dd0d9c4-f024-438f-ab5d-0865b64c3121",
   "metadata": {},
   "outputs": [
    {
     "name": "stdout",
     "output_type": "stream",
     "text": [
      "<re.Match object; span=(0, 7), match='ARTHUR:'>\n"
     ]
    }
   ],
   "source": [
    "# Find the script notation at the beginning of the fourth sentence and print it\n",
    "pattern2 = r\"[\\w\\s]+:\"\n",
    "print(re.match(pattern2,sentences[3]))"
   ]
  },
  {
   "cell_type": "code",
   "execution_count": 7,
   "id": "7cc7868f-6766-4869-986b-7334225d82dc",
   "metadata": {},
   "outputs": [
    {
     "name": "stdout",
     "output_type": "stream",
     "text": [
      "<re.Match object; span=(0, 8), match='SCENE 1:'>\n"
     ]
    }
   ],
   "source": [
    "pattern2 = r\"[\\w\\s]+:\"\n",
    "print(re.match(pattern2,scene_one))"
   ]
  }
 ],
 "metadata": {
  "kernelspec": {
   "display_name": "Python 3",
   "language": "python",
   "name": "python3"
  },
  "language_info": {
   "codemirror_mode": {
    "name": "ipython",
    "version": 3
   },
   "file_extension": ".py",
   "mimetype": "text/x-python",
   "name": "python",
   "nbconvert_exporter": "python",
   "pygments_lexer": "ipython3",
   "version": "3.8.10"
  },
  "widgets": {
   "application/vnd.jupyter.widget-state+json": {
    "state": {},
    "version_major": 2,
    "version_minor": 0
   }
  }
 },
 "nbformat": 4,
 "nbformat_minor": 5
}
