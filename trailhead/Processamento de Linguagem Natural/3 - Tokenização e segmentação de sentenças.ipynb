{
 "cells": [
  {
   "cell_type": "markdown",
   "id": "f3a557a6-0e0f-4db2-a118-f0b282b1fafa",
   "metadata": {},
   "source": [
    "# Trailhead 3 - Tokenização e segmentação de sentenças"
   ]
  },
  {
   "cell_type": "code",
   "execution_count": 1,
   "id": "983015d0-d736-48d1-9ae2-339383989195",
   "metadata": {},
   "outputs": [
    {
     "name": "stderr",
     "output_type": "stream",
     "text": [
      "2022-04-29 22:31:26.442780: W tensorflow/stream_executor/platform/default/dso_loader.cc:64] Could not load dynamic library 'libcudart.so.11.0'; dlerror: libcudart.so.11.0: cannot open shared object file: No such file or directory\n",
      "2022-04-29 22:31:26.442808: I tensorflow/stream_executor/cuda/cudart_stub.cc:29] Ignore above cudart dlerror if you do not have a GPU set up on your machine.\n"
     ]
    },
    {
     "data": {
      "application/vnd.jupyter.widget-view+json": {
       "model_id": "ef70dcb078db42d9b49e8c7900b2a6f2",
       "version_major": 2,
       "version_minor": 0
      },
      "text/plain": [
       "Downloading https://raw.githubusercontent.com/stanfordnlp/stanza-resources/main/resources_1.4.0.json:   0%|   …"
      ]
     },
     "metadata": {},
     "output_type": "display_data"
    },
    {
     "name": "stderr",
     "output_type": "stream",
     "text": [
      "2022-04-29 22:31:29 INFO: Loading these models for language: en (English):\n",
      "========================\n",
      "| Processor | Package  |\n",
      "------------------------\n",
      "| tokenize  | combined |\n",
      "========================\n",
      "\n",
      "2022-04-29 22:31:29 INFO: Use device: cpu\n",
      "2022-04-29 22:31:29 INFO: Loading: tokenize\n",
      "2022-04-29 22:31:29 INFO: Done loading processors!\n"
     ]
    },
    {
     "name": "stdout",
     "output_type": "stream",
     "text": [
      "====== Sentence 1 tokens =======\n",
      "id: (1,)\ttext: This\n",
      "id: (2,)\ttext: is\n",
      "id: (3,)\ttext: a\n",
      "id: (4,)\ttext: test\n",
      "id: (5,)\ttext: sentence\n",
      "id: (6,)\ttext: for\n",
      "id: (7,)\ttext: stanza\n",
      "id: (8,)\ttext: .\n",
      "====== Sentence 2 tokens =======\n",
      "id: (1,)\ttext: This\n",
      "id: (2,)\ttext: is\n",
      "id: (3,)\ttext: another\n",
      "id: (4,)\ttext: sentence\n",
      "id: (5,)\ttext: .\n"
     ]
    }
   ],
   "source": [
    "import stanza \n",
    "nlp = stanza.Pipeline(lang='en', processors='tokenize') \n",
    "doc = nlp('This is a test sentence for stanza. This is another sentence.') \n",
    "for i, sentence in enumerate(doc.sentences):     \n",
    "    print(f'====== Sentence {i+1} tokens =======')     \n",
    "    print(*[f'id: {token.id}\\ttext: {token.text}' for token in sentence.tokens], sep='\\n')"
   ]
  },
  {
   "cell_type": "code",
   "execution_count": 2,
   "id": "1fb4655c-2a78-4a5b-8d27-37dda7943644",
   "metadata": {},
   "outputs": [
    {
     "name": "stdout",
     "output_type": "stream",
     "text": [
      "['This is a test sentence for stanza.', 'This is another sentence.']\n"
     ]
    }
   ],
   "source": [
    "print([sentence.text for sentence in doc.sentences])"
   ]
  },
  {
   "cell_type": "code",
   "execution_count": 3,
   "id": "f4ea97ec-0f83-4118-a310-96b160e2b9a8",
   "metadata": {},
   "outputs": [
    {
     "data": {
      "application/vnd.jupyter.widget-view+json": {
       "model_id": "4c30a17da40f4ceea10e1cbfe33f716e",
       "version_major": 2,
       "version_minor": 0
      },
      "text/plain": [
       "Downloading https://raw.githubusercontent.com/stanfordnlp/stanza-resources/main/resources_1.4.0.json:   0%|   …"
      ]
     },
     "metadata": {},
     "output_type": "display_data"
    },
    {
     "name": "stderr",
     "output_type": "stream",
     "text": [
      "2022-04-29 22:31:30 INFO: Loading these models for language: en (English):\n",
      "========================\n",
      "| Processor | Package  |\n",
      "------------------------\n",
      "| tokenize  | combined |\n",
      "========================\n",
      "\n",
      "2022-04-29 22:31:30 INFO: Use device: cpu\n",
      "2022-04-29 22:31:30 INFO: Loading: tokenize\n",
      "2022-04-29 22:31:30 INFO: Done loading processors!\n"
     ]
    },
    {
     "name": "stdout",
     "output_type": "stream",
     "text": [
      "====== Sentence 1 tokens =======\n",
      "id: (1,)\ttext: This\n",
      "id: (2,)\ttext: is\n",
      "id: (3,)\ttext: a\n",
      "id: (4,)\ttext: sentence\n",
      "id: (5,)\ttext: .\n",
      "====== Sentence 2 tokens =======\n",
      "id: (1,)\ttext: This\n",
      "id: (2,)\ttext: is\n",
      "id: (3,)\ttext: a\n",
      "id: (4,)\ttext: second\n",
      "id: (5,)\ttext: .\n",
      "id: (6,)\ttext: This\n",
      "id: (7,)\ttext: is\n",
      "id: (8,)\ttext: a\n",
      "id: (9,)\ttext: third\n",
      "id: (10,)\ttext: .\n"
     ]
    }
   ],
   "source": [
    "nlp = stanza.Pipeline(lang='en', processors='tokenize', tokenize_no_ssplit=True)\n",
    "doc = nlp('This is a sentence.\\n\\nThis is a second. This is a third.')\n",
    "for i, sentence in enumerate(doc.sentences):\n",
    "    print(f'====== Sentence {i+1} tokens =======')\n",
    "    print(*[f'id: {token.id}\\ttext: {token.text}' for token in sentence.tokens], sep='\\n')"
   ]
  },
  {
   "cell_type": "code",
   "execution_count": 4,
   "id": "e6f30e86-8cdd-46b6-b136-a58b2c7b3eb7",
   "metadata": {},
   "outputs": [
    {
     "data": {
      "application/vnd.jupyter.widget-view+json": {
       "model_id": "0a7d58395b58475a8794699b751fec70",
       "version_major": 2,
       "version_minor": 0
      },
      "text/plain": [
       "Downloading https://raw.githubusercontent.com/stanfordnlp/stanza-resources/main/resources_1.4.0.json:   0%|   …"
      ]
     },
     "metadata": {},
     "output_type": "display_data"
    },
    {
     "name": "stderr",
     "output_type": "stream",
     "text": [
      "2022-04-29 22:31:30 INFO: Loading these models for language: en (English):\n",
      "========================\n",
      "| Processor | Package  |\n",
      "------------------------\n",
      "| tokenize  | combined |\n",
      "========================\n",
      "\n",
      "2022-04-29 22:31:30 INFO: Use device: cpu\n",
      "2022-04-29 22:31:30 INFO: Loading: tokenize\n",
      "2022-04-29 22:31:30 INFO: Done loading processors!\n"
     ]
    },
    {
     "name": "stdout",
     "output_type": "stream",
     "text": [
      "====== Sentence 1 tokens =======\n",
      "id: (1,)\ttext: This\n",
      "id: (2,)\ttext: is\n",
      "id: (3,)\ttext: token.ization\n",
      "id: (4,)\ttext: done\n",
      "id: (5,)\ttext: my\n",
      "id: (6,)\ttext: way!\n",
      "====== Sentence 2 tokens =======\n",
      "id: (1,)\ttext: Sentence\n",
      "id: (2,)\ttext: split,\n",
      "id: (3,)\ttext: too!\n"
     ]
    }
   ],
   "source": [
    "nlp = stanza.Pipeline(lang='en', processors='tokenize', tokenize_pretokenized=True)\n",
    "doc = nlp('This is token.ization done my way!\\nSentence split, too!')\n",
    "for i, sentence in enumerate(doc.sentences):\n",
    "    print(f'====== Sentence {i+1} tokens =======')\n",
    "    print(*[f'id: {token.id}\\ttext: {token.text}' for token in sentence.tokens], sep='\\n')"
   ]
  },
  {
   "cell_type": "code",
   "execution_count": 5,
   "id": "a0d02335-2a02-4ec7-8aae-d3626633a3c1",
   "metadata": {},
   "outputs": [
    {
     "data": {
      "application/vnd.jupyter.widget-view+json": {
       "model_id": "b0ddb49f4f86458b9d915b9c5b49ad30",
       "version_major": 2,
       "version_minor": 0
      },
      "text/plain": [
       "Downloading https://raw.githubusercontent.com/stanfordnlp/stanza-resources/main/resources_1.4.0.json:   0%|   …"
      ]
     },
     "metadata": {},
     "output_type": "display_data"
    },
    {
     "name": "stderr",
     "output_type": "stream",
     "text": [
      "2022-04-29 22:31:30 INFO: Loading these models for language: en (English):\n",
      "========================\n",
      "| Processor | Package  |\n",
      "------------------------\n",
      "| tokenize  | combined |\n",
      "========================\n",
      "\n",
      "2022-04-29 22:31:30 INFO: Use device: cpu\n",
      "2022-04-29 22:31:30 INFO: Loading: tokenize\n",
      "2022-04-29 22:31:30 INFO: Done loading processors!\n"
     ]
    },
    {
     "name": "stdout",
     "output_type": "stream",
     "text": [
      "====== Sentence 1 tokens =======\n",
      "id: (1,)\ttext: This\n",
      "id: (2,)\ttext: is\n",
      "id: (3,)\ttext: token.ization\n",
      "id: (4,)\ttext: done\n",
      "id: (5,)\ttext: my\n",
      "id: (6,)\ttext: way!\n",
      "====== Sentence 2 tokens =======\n",
      "id: (1,)\ttext: Sentence\n",
      "id: (2,)\ttext: split,\n",
      "id: (3,)\ttext: too!\n"
     ]
    }
   ],
   "source": [
    "nlp = stanza.Pipeline(lang='en', processors='tokenize', tokenize_pretokenized=True)\n",
    "doc = nlp([['This', 'is', 'token.ization', 'done', 'my', 'way!'], ['Sentence', 'split,', 'too!']])\n",
    "for i, sentence in enumerate(doc.sentences):\n",
    "    print(f'====== Sentence {i+1} tokens =======')\n",
    "    print(*[f'id: {token.id}\\ttext: {token.text}' for token in sentence.tokens], sep='\\n')"
   ]
  },
  {
   "cell_type": "code",
   "execution_count": 6,
   "id": "391af9f7-7861-4101-8126-7eb585f59142",
   "metadata": {},
   "outputs": [
    {
     "data": {
      "application/vnd.jupyter.widget-view+json": {
       "model_id": "c550d01822924038a9f7de38c0c5d5eb",
       "version_major": 2,
       "version_minor": 0
      },
      "text/plain": [
       "Downloading https://raw.githubusercontent.com/stanfordnlp/stanza-resources/main/resources_1.4.0.json:   0%|   …"
      ]
     },
     "metadata": {},
     "output_type": "display_data"
    },
    {
     "name": "stderr",
     "output_type": "stream",
     "text": [
      "2022-04-29 22:31:31 INFO: Loading these models for language: en (English):\n",
      "========================\n",
      "| Processor | Package  |\n",
      "------------------------\n",
      "| tokenize  | combined |\n",
      "========================\n",
      "\n",
      "2022-04-29 22:31:31 INFO: Use device: cpu\n",
      "2022-04-29 22:31:31 INFO: Loading: tokenize\n",
      "2022-04-29 22:31:31 INFO: Done loading processors!\n"
     ]
    }
   ],
   "source": [
    "import stanza\n",
    "nlp = stanza.Pipeline(lang='en', processors='tokenize', tokenize_no_ssplit=True)"
   ]
  },
  {
   "cell_type": "code",
   "execution_count": 7,
   "id": "8d93891a-5e2b-42bc-950f-00ed824ac150",
   "metadata": {},
   "outputs": [
    {
     "name": "stdout",
     "output_type": "stream",
     "text": [
      "====== Sentence 1 tokens =======\n",
      "id: (1,)\ttext: This\n",
      "id: (2,)\ttext: is\n",
      "id: (3,)\ttext: a\n",
      "id: (4,)\ttext: sentence\n",
      "id: (5,)\ttext: .\n",
      "====== Sentence 2 tokens =======\n",
      "id: (1,)\ttext: This\n",
      "id: (2,)\ttext: is\n",
      "id: (3,)\ttext: a\n",
      "id: (4,)\ttext: second\n",
      "id: (5,)\ttext: .\n",
      "id: (6,)\ttext: This\n",
      "id: (7,)\ttext: is\n",
      "id: (8,)\ttext: a\n",
      "id: (9,)\ttext: third\n",
      "id: (10,)\ttext: .\n"
     ]
    }
   ],
   "source": [
    "doc = nlp('This is a sentence.\\n\\nThis is a second. This is a third.')\n",
    "for i, sentence in enumerate(doc.sentences):\n",
    "    print(f'====== Sentence {i+1} tokens =======')\n",
    "    print(*[f'id: {token.id}\\ttext: {token.text}' for token in sentence.tokens], sep='\\n')"
   ]
  }
 ],
 "metadata": {
  "kernelspec": {
   "display_name": "Python 3",
   "language": "python",
   "name": "python3"
  },
  "language_info": {
   "codemirror_mode": {
    "name": "ipython",
    "version": 3
   },
   "file_extension": ".py",
   "mimetype": "text/x-python",
   "name": "python",
   "nbconvert_exporter": "python",
   "pygments_lexer": "ipython3",
   "version": "3.8.10"
  },
  "widgets": {
   "application/vnd.jupyter.widget-state+json": {
    "state": {
     "08e0d0f2e5ca4e87bdaad4f591cfef65": {
      "model_module": "@jupyter-widgets/controls",
      "model_module_version": "1.5.0",
      "model_name": "DescriptionStyleModel",
      "state": {
       "description_width": ""
      }
     },
     "0a7d58395b58475a8794699b751fec70": {
      "model_module": "@jupyter-widgets/controls",
      "model_module_version": "1.5.0",
      "model_name": "HBoxModel",
      "state": {
       "children": [
        "IPY_MODEL_f624e94731dd46e1805131b83cbbc875",
        "IPY_MODEL_aff3d11685424209a1b601e567b7389a",
        "IPY_MODEL_fabbc3f861b04223848a83644ea806e6"
       ],
       "layout": "IPY_MODEL_69c0a73e43be4278bed41d33b4adac35"
      }
     },
     "0abee00b244c4fc7943931696ae6a352": {
      "model_module": "@jupyter-widgets/base",
      "model_module_version": "1.2.0",
      "model_name": "LayoutModel",
      "state": {}
     },
     "1f0e02ddd71f4f65b8e9fb31fd1bfbcc": {
      "model_module": "@jupyter-widgets/controls",
      "model_module_version": "1.5.0",
      "model_name": "ProgressStyleModel",
      "state": {
       "description_width": ""
      }
     },
     "204bb6386aec4becb3fac937e7ba47a3": {
      "model_module": "@jupyter-widgets/controls",
      "model_module_version": "1.5.0",
      "model_name": "DescriptionStyleModel",
      "state": {
       "description_width": ""
      }
     },
     "29380368e73d43ca8b57923407d8971e": {
      "model_module": "@jupyter-widgets/base",
      "model_module_version": "1.2.0",
      "model_name": "LayoutModel",
      "state": {}
     },
     "2958cc0c8f0743e8908527d8e78abbca": {
      "model_module": "@jupyter-widgets/base",
      "model_module_version": "1.2.0",
      "model_name": "LayoutModel",
      "state": {}
     },
     "2d695778d301476abc25b72ad4da533b": {
      "model_module": "@jupyter-widgets/base",
      "model_module_version": "1.2.0",
      "model_name": "LayoutModel",
      "state": {}
     },
     "2e4f79aad9f34b72906fcd56254b70c1": {
      "model_module": "@jupyter-widgets/controls",
      "model_module_version": "1.5.0",
      "model_name": "FloatProgressModel",
      "state": {
       "bar_style": "success",
       "layout": "IPY_MODEL_b54f0ce7307b40a99f207da262a6a5fb",
       "max": 26075,
       "style": "IPY_MODEL_37b0a691a0ea4148b845c9517fd1e70c",
       "value": 26075
      }
     },
     "34adbeb3791742cabda545fbfb875a2b": {
      "model_module": "@jupyter-widgets/controls",
      "model_module_version": "1.5.0",
      "model_name": "FloatProgressModel",
      "state": {
       "bar_style": "success",
       "layout": "IPY_MODEL_3fd76bb4b3f34bdc8fe77643ae342572",
       "max": 26075,
       "style": "IPY_MODEL_bb8d1447c2e44ee6be04521b04dce440",
       "value": 26075
      }
     },
     "37b0a691a0ea4148b845c9517fd1e70c": {
      "model_module": "@jupyter-widgets/controls",
      "model_module_version": "1.5.0",
      "model_name": "ProgressStyleModel",
      "state": {
       "description_width": ""
      }
     },
     "39322236aab14a748a2299555e866767": {
      "model_module": "@jupyter-widgets/controls",
      "model_module_version": "1.5.0",
      "model_name": "DescriptionStyleModel",
      "state": {
       "description_width": ""
      }
     },
     "3fd76bb4b3f34bdc8fe77643ae342572": {
      "model_module": "@jupyter-widgets/base",
      "model_module_version": "1.2.0",
      "model_name": "LayoutModel",
      "state": {}
     },
     "4431e7d1b79f495b9f86ed71f2f8dfc4": {
      "model_module": "@jupyter-widgets/controls",
      "model_module_version": "1.5.0",
      "model_name": "HTMLModel",
      "state": {
       "layout": "IPY_MODEL_c04b21b28c644cd6a30057cb98482e82",
       "style": "IPY_MODEL_08e0d0f2e5ca4e87bdaad4f591cfef65",
       "value": " 156k/? [00:00&lt;00:00, 2.06MB/s]"
      }
     },
     "443f0f013a914ea4a967f74b9262f1ac": {
      "model_module": "@jupyter-widgets/controls",
      "model_module_version": "1.5.0",
      "model_name": "HTMLModel",
      "state": {
       "layout": "IPY_MODEL_29380368e73d43ca8b57923407d8971e",
       "style": "IPY_MODEL_204bb6386aec4becb3fac937e7ba47a3",
       "value": " 156k/? [00:00&lt;00:00, 2.15MB/s]"
      }
     },
     "4c30a17da40f4ceea10e1cbfe33f716e": {
      "model_module": "@jupyter-widgets/controls",
      "model_module_version": "1.5.0",
      "model_name": "HBoxModel",
      "state": {
       "children": [
        "IPY_MODEL_f80baa845f274a7e94e8998b781c0586",
        "IPY_MODEL_9e4434024c754143898da1b87d32da35",
        "IPY_MODEL_6b7593a85fd74038bcae25eef768e0b3"
       ],
       "layout": "IPY_MODEL_90a456cf19f14242adab04ea1376ce66"
      }
     },
     "519f8aa7140641999fa7a0b42c05ffc4": {
      "model_module": "@jupyter-widgets/controls",
      "model_module_version": "1.5.0",
      "model_name": "DescriptionStyleModel",
      "state": {
       "description_width": ""
      }
     },
     "52a07451a68b41c880dbdc8122b76a3d": {
      "model_module": "@jupyter-widgets/controls",
      "model_module_version": "1.5.0",
      "model_name": "FloatProgressModel",
      "state": {
       "bar_style": "success",
       "layout": "IPY_MODEL_7efedec74659487dbddba9b7e3208ffe",
       "max": 26075,
       "style": "IPY_MODEL_b567685837d449e7b1c8b708173b3536",
       "value": 26075
      }
     },
     "55aa376be6574b0f9fe2daf689b5a867": {
      "model_module": "@jupyter-widgets/controls",
      "model_module_version": "1.5.0",
      "model_name": "DescriptionStyleModel",
      "state": {
       "description_width": ""
      }
     },
     "5aa9122ac0a44d0da7a5981812191d23": {
      "model_module": "@jupyter-widgets/controls",
      "model_module_version": "1.5.0",
      "model_name": "DescriptionStyleModel",
      "state": {
       "description_width": ""
      }
     },
     "5af7189885594173a93542dddde242ee": {
      "model_module": "@jupyter-widgets/controls",
      "model_module_version": "1.5.0",
      "model_name": "DescriptionStyleModel",
      "state": {
       "description_width": ""
      }
     },
     "5e0b6102f8c44ddb8fb91b7bae2a96a8": {
      "model_module": "@jupyter-widgets/controls",
      "model_module_version": "1.5.0",
      "model_name": "HTMLModel",
      "state": {
       "layout": "IPY_MODEL_2d695778d301476abc25b72ad4da533b",
       "style": "IPY_MODEL_f1bb1f9a4e914182b36edc160991416d",
       "value": " 156k/? [00:00&lt;00:00, 3.93MB/s]"
      }
     },
     "64885e7b56694d869c152e03d0c938b7": {
      "model_module": "@jupyter-widgets/base",
      "model_module_version": "1.2.0",
      "model_name": "LayoutModel",
      "state": {}
     },
     "69c0a73e43be4278bed41d33b4adac35": {
      "model_module": "@jupyter-widgets/base",
      "model_module_version": "1.2.0",
      "model_name": "LayoutModel",
      "state": {}
     },
     "6b7593a85fd74038bcae25eef768e0b3": {
      "model_module": "@jupyter-widgets/controls",
      "model_module_version": "1.5.0",
      "model_name": "HTMLModel",
      "state": {
       "layout": "IPY_MODEL_0abee00b244c4fc7943931696ae6a352",
       "style": "IPY_MODEL_5af7189885594173a93542dddde242ee",
       "value": " 156k/? [00:00&lt;00:00, 2.83MB/s]"
      }
     },
     "7c8e9d7d9e5c49c8b3aee5a0d76783fb": {
      "model_module": "@jupyter-widgets/base",
      "model_module_version": "1.2.0",
      "model_name": "LayoutModel",
      "state": {}
     },
     "7efedec74659487dbddba9b7e3208ffe": {
      "model_module": "@jupyter-widgets/base",
      "model_module_version": "1.2.0",
      "model_name": "LayoutModel",
      "state": {}
     },
     "89a4580ae4bc4181a9abaeff4ca5ccea": {
      "model_module": "@jupyter-widgets/base",
      "model_module_version": "1.2.0",
      "model_name": "LayoutModel",
      "state": {}
     },
     "8e1aa8c9d64143bc9cf4f5614513a5ef": {
      "model_module": "@jupyter-widgets/base",
      "model_module_version": "1.2.0",
      "model_name": "LayoutModel",
      "state": {}
     },
     "90a456cf19f14242adab04ea1376ce66": {
      "model_module": "@jupyter-widgets/base",
      "model_module_version": "1.2.0",
      "model_name": "LayoutModel",
      "state": {}
     },
     "9d57311dd0b64a01afd1b0f9befb0f19": {
      "model_module": "@jupyter-widgets/controls",
      "model_module_version": "1.5.0",
      "model_name": "DescriptionStyleModel",
      "state": {
       "description_width": ""
      }
     },
     "9e4434024c754143898da1b87d32da35": {
      "model_module": "@jupyter-widgets/controls",
      "model_module_version": "1.5.0",
      "model_name": "FloatProgressModel",
      "state": {
       "bar_style": "success",
       "layout": "IPY_MODEL_f94987228f2042868d58194dc7518418",
       "max": 26075,
       "style": "IPY_MODEL_f26c9398f4214d569b24feb77d4d0043",
       "value": 26075
      }
     },
     "a5587cfe2153443893137dd6ae158526": {
      "model_module": "@jupyter-widgets/controls",
      "model_module_version": "1.5.0",
      "model_name": "DescriptionStyleModel",
      "state": {
       "description_width": ""
      }
     },
     "aff3d11685424209a1b601e567b7389a": {
      "model_module": "@jupyter-widgets/controls",
      "model_module_version": "1.5.0",
      "model_name": "FloatProgressModel",
      "state": {
       "bar_style": "success",
       "layout": "IPY_MODEL_64885e7b56694d869c152e03d0c938b7",
       "max": 26075,
       "style": "IPY_MODEL_1f0e02ddd71f4f65b8e9fb31fd1bfbcc",
       "value": 26075
      }
     },
     "b0ddb49f4f86458b9d915b9c5b49ad30": {
      "model_module": "@jupyter-widgets/controls",
      "model_module_version": "1.5.0",
      "model_name": "HBoxModel",
      "state": {
       "children": [
        "IPY_MODEL_e3b01a47386c4f19b74c3b99df732482",
        "IPY_MODEL_34adbeb3791742cabda545fbfb875a2b",
        "IPY_MODEL_4431e7d1b79f495b9f86ed71f2f8dfc4"
       ],
       "layout": "IPY_MODEL_d9ce1fb962254de4b4fa90369338e0a8"
      }
     },
     "b54f0ce7307b40a99f207da262a6a5fb": {
      "model_module": "@jupyter-widgets/base",
      "model_module_version": "1.2.0",
      "model_name": "LayoutModel",
      "state": {}
     },
     "b567685837d449e7b1c8b708173b3536": {
      "model_module": "@jupyter-widgets/controls",
      "model_module_version": "1.5.0",
      "model_name": "ProgressStyleModel",
      "state": {
       "description_width": ""
      }
     },
     "b98177f4b25d4a38b4b6818e9aab2124": {
      "model_module": "@jupyter-widgets/controls",
      "model_module_version": "1.5.0",
      "model_name": "HTMLModel",
      "state": {
       "layout": "IPY_MODEL_c6709ce84a8f44fc904e6aee79ac4180",
       "style": "IPY_MODEL_a5587cfe2153443893137dd6ae158526",
       "value": "Downloading https://raw.githubusercontent.com/stanfordnlp/stanza-resources/main/resources_1.4.0.json: "
      }
     },
     "bb8d1447c2e44ee6be04521b04dce440": {
      "model_module": "@jupyter-widgets/controls",
      "model_module_version": "1.5.0",
      "model_name": "ProgressStyleModel",
      "state": {
       "description_width": ""
      }
     },
     "c04b21b28c644cd6a30057cb98482e82": {
      "model_module": "@jupyter-widgets/base",
      "model_module_version": "1.2.0",
      "model_name": "LayoutModel",
      "state": {}
     },
     "c550d01822924038a9f7de38c0c5d5eb": {
      "model_module": "@jupyter-widgets/controls",
      "model_module_version": "1.5.0",
      "model_name": "HBoxModel",
      "state": {
       "children": [
        "IPY_MODEL_f8a8fdb289164e83b11db8b709b3e4d9",
        "IPY_MODEL_2e4f79aad9f34b72906fcd56254b70c1",
        "IPY_MODEL_443f0f013a914ea4a967f74b9262f1ac"
       ],
       "layout": "IPY_MODEL_d346381ac96f448cb556321679afa940"
      }
     },
     "c60601a652444a10ba0d23e32f70059d": {
      "model_module": "@jupyter-widgets/base",
      "model_module_version": "1.2.0",
      "model_name": "LayoutModel",
      "state": {}
     },
     "c6709ce84a8f44fc904e6aee79ac4180": {
      "model_module": "@jupyter-widgets/base",
      "model_module_version": "1.2.0",
      "model_name": "LayoutModel",
      "state": {}
     },
     "d346381ac96f448cb556321679afa940": {
      "model_module": "@jupyter-widgets/base",
      "model_module_version": "1.2.0",
      "model_name": "LayoutModel",
      "state": {}
     },
     "d9ce1fb962254de4b4fa90369338e0a8": {
      "model_module": "@jupyter-widgets/base",
      "model_module_version": "1.2.0",
      "model_name": "LayoutModel",
      "state": {}
     },
     "e3b01a47386c4f19b74c3b99df732482": {
      "model_module": "@jupyter-widgets/controls",
      "model_module_version": "1.5.0",
      "model_name": "HTMLModel",
      "state": {
       "layout": "IPY_MODEL_2958cc0c8f0743e8908527d8e78abbca",
       "style": "IPY_MODEL_519f8aa7140641999fa7a0b42c05ffc4",
       "value": "Downloading https://raw.githubusercontent.com/stanfordnlp/stanza-resources/main/resources_1.4.0.json: "
      }
     },
     "ef70dcb078db42d9b49e8c7900b2a6f2": {
      "model_module": "@jupyter-widgets/controls",
      "model_module_version": "1.5.0",
      "model_name": "HBoxModel",
      "state": {
       "children": [
        "IPY_MODEL_b98177f4b25d4a38b4b6818e9aab2124",
        "IPY_MODEL_52a07451a68b41c880dbdc8122b76a3d",
        "IPY_MODEL_5e0b6102f8c44ddb8fb91b7bae2a96a8"
       ],
       "layout": "IPY_MODEL_c60601a652444a10ba0d23e32f70059d"
      }
     },
     "f1bb1f9a4e914182b36edc160991416d": {
      "model_module": "@jupyter-widgets/controls",
      "model_module_version": "1.5.0",
      "model_name": "DescriptionStyleModel",
      "state": {
       "description_width": ""
      }
     },
     "f26c9398f4214d569b24feb77d4d0043": {
      "model_module": "@jupyter-widgets/controls",
      "model_module_version": "1.5.0",
      "model_name": "ProgressStyleModel",
      "state": {
       "description_width": ""
      }
     },
     "f624e94731dd46e1805131b83cbbc875": {
      "model_module": "@jupyter-widgets/controls",
      "model_module_version": "1.5.0",
      "model_name": "HTMLModel",
      "state": {
       "layout": "IPY_MODEL_7c8e9d7d9e5c49c8b3aee5a0d76783fb",
       "style": "IPY_MODEL_5aa9122ac0a44d0da7a5981812191d23",
       "value": "Downloading https://raw.githubusercontent.com/stanfordnlp/stanza-resources/main/resources_1.4.0.json: "
      }
     },
     "f7f08fed7e724e8790021ff7a80b80f4": {
      "model_module": "@jupyter-widgets/base",
      "model_module_version": "1.2.0",
      "model_name": "LayoutModel",
      "state": {}
     },
     "f80baa845f274a7e94e8998b781c0586": {
      "model_module": "@jupyter-widgets/controls",
      "model_module_version": "1.5.0",
      "model_name": "HTMLModel",
      "state": {
       "layout": "IPY_MODEL_8e1aa8c9d64143bc9cf4f5614513a5ef",
       "style": "IPY_MODEL_55aa376be6574b0f9fe2daf689b5a867",
       "value": "Downloading https://raw.githubusercontent.com/stanfordnlp/stanza-resources/main/resources_1.4.0.json: "
      }
     },
     "f8a8fdb289164e83b11db8b709b3e4d9": {
      "model_module": "@jupyter-widgets/controls",
      "model_module_version": "1.5.0",
      "model_name": "HTMLModel",
      "state": {
       "layout": "IPY_MODEL_f7f08fed7e724e8790021ff7a80b80f4",
       "style": "IPY_MODEL_39322236aab14a748a2299555e866767",
       "value": "Downloading https://raw.githubusercontent.com/stanfordnlp/stanza-resources/main/resources_1.4.0.json: "
      }
     },
     "f94987228f2042868d58194dc7518418": {
      "model_module": "@jupyter-widgets/base",
      "model_module_version": "1.2.0",
      "model_name": "LayoutModel",
      "state": {}
     },
     "fabbc3f861b04223848a83644ea806e6": {
      "model_module": "@jupyter-widgets/controls",
      "model_module_version": "1.5.0",
      "model_name": "HTMLModel",
      "state": {
       "layout": "IPY_MODEL_89a4580ae4bc4181a9abaeff4ca5ccea",
       "style": "IPY_MODEL_9d57311dd0b64a01afd1b0f9befb0f19",
       "value": " 156k/? [00:00&lt;00:00, 1.38MB/s]"
      }
     }
    },
    "version_major": 2,
    "version_minor": 0
   }
  }
 },
 "nbformat": 4,
 "nbformat_minor": 5
}
