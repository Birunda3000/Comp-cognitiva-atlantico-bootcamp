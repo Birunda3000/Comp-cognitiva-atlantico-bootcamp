{
 "cells": [
  {
   "cell_type": "markdown",
   "id": "cfa5bf1f-b415-42ea-9ed6-bb41e536806f",
   "metadata": {},
   "source": [
    "# Trailhead 1 - Introdução a NLP"
   ]
  },
  {
   "cell_type": "code",
   "execution_count": 1,
   "id": "b3730d7d-2427-4a1d-a5ad-41ebd2fda8e6",
   "metadata": {},
   "outputs": [
    {
     "name": "stderr",
     "output_type": "stream",
     "text": [
      "2022-04-29 22:34:38.725141: W tensorflow/stream_executor/platform/default/dso_loader.cc:64] Could not load dynamic library 'libcudart.so.11.0'; dlerror: libcudart.so.11.0: cannot open shared object file: No such file or directory\n",
      "2022-04-29 22:34:38.725166: I tensorflow/stream_executor/cuda/cudart_stub.cc:29] Ignore above cudart dlerror if you do not have a GPU set up on your machine.\n"
     ]
    }
   ],
   "source": [
    "import keras\n",
    "import nltk\n",
    "import pandas as pd\n",
    "import numpy as np\n",
    "import re\n",
    "import codecs\n",
    "import itertools\n",
    "import matplotlib\n",
    "import matplotlib.patches as mpatches\n",
    "import matplotlib.pyplot as plt\n",
    "import numpy as np\n",
    "import gensim\n",
    "import keras\n",
    "import nltk\n",
    "import pandas as pd\n",
    "import gensim\n",
    "import time"
   ]
  },
  {
   "cell_type": "code",
   "execution_count": 2,
   "id": "6404d99c-cbac-457a-8b68-d047e1ff9ba2",
   "metadata": {},
   "outputs": [],
   "source": [
    "start = time.time()"
   ]
  },
  {
   "cell_type": "code",
   "execution_count": 3,
   "id": "940ff0cd-05b6-4a64-afb9-10a68714dcc4",
   "metadata": {},
   "outputs": [],
   "source": [
    "# Inspecionando os dados \n",
    "questions = pd.read_csv(\"untitled.txt\") \n",
    "questions.columns=['text', 'choose_one', 'class_label']"
   ]
  },
  {
   "cell_type": "code",
   "execution_count": 4,
   "id": "0dfb22e4-1f5b-46bb-8966-f444a4395ae5",
   "metadata": {},
   "outputs": [
    {
     "data": {
      "text/html": [
       "<div>\n",
       "<style scoped>\n",
       "    .dataframe tbody tr th:only-of-type {\n",
       "        vertical-align: middle;\n",
       "    }\n",
       "\n",
       "    .dataframe tbody tr th {\n",
       "        vertical-align: top;\n",
       "    }\n",
       "\n",
       "    .dataframe thead th {\n",
       "        text-align: right;\n",
       "    }\n",
       "</style>\n",
       "<table border=\"1\" class=\"dataframe\">\n",
       "  <thead>\n",
       "    <tr style=\"text-align: right;\">\n",
       "      <th></th>\n",
       "      <th>text</th>\n",
       "      <th>choose_one</th>\n",
       "      <th>class_label</th>\n",
       "    </tr>\n",
       "  </thead>\n",
       "  <tbody>\n",
       "    <tr>\n",
       "      <th>0</th>\n",
       "      <td>Just happened a terrible car crash</td>\n",
       "      <td>Relevant</td>\n",
       "      <td>1</td>\n",
       "    </tr>\n",
       "    <tr>\n",
       "      <th>1</th>\n",
       "      <td>Our Deeds are the Reason of this #earthquake M...</td>\n",
       "      <td>Relevant</td>\n",
       "      <td>1</td>\n",
       "    </tr>\n",
       "    <tr>\n",
       "      <th>2</th>\n",
       "      <td>Heard about #earthquake is different cities, s...</td>\n",
       "      <td>Relevant</td>\n",
       "      <td>1</td>\n",
       "    </tr>\n",
       "    <tr>\n",
       "      <th>3</th>\n",
       "      <td>there is a forest fire at spot pond, geese are...</td>\n",
       "      <td>Relevant</td>\n",
       "      <td>1</td>\n",
       "    </tr>\n",
       "    <tr>\n",
       "      <th>4</th>\n",
       "      <td>Forest fire near La Ronge Sask. Canada</td>\n",
       "      <td>Relevant</td>\n",
       "      <td>1</td>\n",
       "    </tr>\n",
       "  </tbody>\n",
       "</table>\n",
       "</div>"
      ],
      "text/plain": [
       "                                                text choose_one  class_label\n",
       "0                 Just happened a terrible car crash   Relevant            1\n",
       "1  Our Deeds are the Reason of this #earthquake M...   Relevant            1\n",
       "2  Heard about #earthquake is different cities, s...   Relevant            1\n",
       "3  there is a forest fire at spot pond, geese are...   Relevant            1\n",
       "4             Forest fire near La Ronge Sask. Canada   Relevant            1"
      ]
     },
     "execution_count": 4,
     "metadata": {},
     "output_type": "execute_result"
    }
   ],
   "source": [
    "#Primeiras linhas \n",
    "questions.head()"
   ]
  },
  {
   "cell_type": "code",
   "execution_count": 5,
   "id": "d6519684-453e-479a-80c3-1013261697b4",
   "metadata": {},
   "outputs": [
    {
     "data": {
      "text/html": [
       "<div>\n",
       "<style scoped>\n",
       "    .dataframe tbody tr th:only-of-type {\n",
       "        vertical-align: middle;\n",
       "    }\n",
       "\n",
       "    .dataframe tbody tr th {\n",
       "        vertical-align: top;\n",
       "    }\n",
       "\n",
       "    .dataframe thead th {\n",
       "        text-align: right;\n",
       "    }\n",
       "</style>\n",
       "<table border=\"1\" class=\"dataframe\">\n",
       "  <thead>\n",
       "    <tr style=\"text-align: right;\">\n",
       "      <th></th>\n",
       "      <th>text</th>\n",
       "      <th>choose_one</th>\n",
       "      <th>class_label</th>\n",
       "    </tr>\n",
       "  </thead>\n",
       "  <tbody>\n",
       "    <tr>\n",
       "      <th>10871</th>\n",
       "      <td>M1.94 [01:04 UTC]?5km S of Volcano Hawaii. htt...</td>\n",
       "      <td>Relevant</td>\n",
       "      <td>1</td>\n",
       "    </tr>\n",
       "    <tr>\n",
       "      <th>10872</th>\n",
       "      <td>Police investigating after an e-bike collided ...</td>\n",
       "      <td>Relevant</td>\n",
       "      <td>1</td>\n",
       "    </tr>\n",
       "    <tr>\n",
       "      <th>10873</th>\n",
       "      <td>The Latest: More Homes Razed by Northern Calif...</td>\n",
       "      <td>Relevant</td>\n",
       "      <td>1</td>\n",
       "    </tr>\n",
       "    <tr>\n",
       "      <th>10874</th>\n",
       "      <td>MEG issues Hazardous Weather Outlook (HWO) htt...</td>\n",
       "      <td>Relevant</td>\n",
       "      <td>1</td>\n",
       "    </tr>\n",
       "    <tr>\n",
       "      <th>10875</th>\n",
       "      <td>#CityofCalgary has activated its Municipal Eme...</td>\n",
       "      <td>Relevant</td>\n",
       "      <td>1</td>\n",
       "    </tr>\n",
       "  </tbody>\n",
       "</table>\n",
       "</div>"
      ],
      "text/plain": [
       "                                                    text choose_one  \\\n",
       "10871  M1.94 [01:04 UTC]?5km S of Volcano Hawaii. htt...   Relevant   \n",
       "10872  Police investigating after an e-bike collided ...   Relevant   \n",
       "10873  The Latest: More Homes Razed by Northern Calif...   Relevant   \n",
       "10874  MEG issues Hazardous Weather Outlook (HWO) htt...   Relevant   \n",
       "10875  #CityofCalgary has activated its Municipal Eme...   Relevant   \n",
       "\n",
       "       class_label  \n",
       "10871            1  \n",
       "10872            1  \n",
       "10873            1  \n",
       "10874            1  \n",
       "10875            1  "
      ]
     },
     "execution_count": 5,
     "metadata": {},
     "output_type": "execute_result"
    }
   ],
   "source": [
    "#Últimas linhas \n",
    "questions.tail()"
   ]
  },
  {
   "cell_type": "code",
   "execution_count": 6,
   "id": "9a4c6fa2-4f34-41f9-b89e-e60fa1e6c8ed",
   "metadata": {},
   "outputs": [
    {
     "data": {
      "text/html": [
       "<div>\n",
       "<style scoped>\n",
       "    .dataframe tbody tr th:only-of-type {\n",
       "        vertical-align: middle;\n",
       "    }\n",
       "\n",
       "    .dataframe tbody tr th {\n",
       "        vertical-align: top;\n",
       "    }\n",
       "\n",
       "    .dataframe thead th {\n",
       "        text-align: right;\n",
       "    }\n",
       "</style>\n",
       "<table border=\"1\" class=\"dataframe\">\n",
       "  <thead>\n",
       "    <tr style=\"text-align: right;\">\n",
       "      <th></th>\n",
       "      <th>class_label</th>\n",
       "    </tr>\n",
       "  </thead>\n",
       "  <tbody>\n",
       "    <tr>\n",
       "      <th>count</th>\n",
       "      <td>10876.000000</td>\n",
       "    </tr>\n",
       "    <tr>\n",
       "      <th>mean</th>\n",
       "      <td>0.432604</td>\n",
       "    </tr>\n",
       "    <tr>\n",
       "      <th>std</th>\n",
       "      <td>0.498420</td>\n",
       "    </tr>\n",
       "    <tr>\n",
       "      <th>min</th>\n",
       "      <td>0.000000</td>\n",
       "    </tr>\n",
       "    <tr>\n",
       "      <th>25%</th>\n",
       "      <td>0.000000</td>\n",
       "    </tr>\n",
       "    <tr>\n",
       "      <th>50%</th>\n",
       "      <td>0.000000</td>\n",
       "    </tr>\n",
       "    <tr>\n",
       "      <th>75%</th>\n",
       "      <td>1.000000</td>\n",
       "    </tr>\n",
       "    <tr>\n",
       "      <th>max</th>\n",
       "      <td>2.000000</td>\n",
       "    </tr>\n",
       "  </tbody>\n",
       "</table>\n",
       "</div>"
      ],
      "text/plain": [
       "        class_label\n",
       "count  10876.000000\n",
       "mean       0.432604\n",
       "std        0.498420\n",
       "min        0.000000\n",
       "25%        0.000000\n",
       "50%        0.000000\n",
       "75%        1.000000\n",
       "max        2.000000"
      ]
     },
     "execution_count": 6,
     "metadata": {},
     "output_type": "execute_result"
    }
   ],
   "source": [
    "questions.describe()"
   ]
  },
  {
   "cell_type": "code",
   "execution_count": 7,
   "id": "d34a7487-6697-4c07-951d-7ed2794b3156",
   "metadata": {},
   "outputs": [],
   "source": [
    "# Expressões regulares para limpeza dos dados \n",
    "def standardize_text(df, text_field):    \n",
    "    df[text_field] = df[text_field].str.replace(r\"http\\S+\", \"\")    \n",
    "    df[text_field] = df[text_field].str.replace(r\"http\", \"\")    \n",
    "    df[text_field] = df[text_field].str.replace(r\"@\\S+\", \"\")    \n",
    "    df[text_field] = df[text_field].str.replace(r\"[^A-Za-z0-9(),!?@\\'\\`\\\"\\_\\n]\", \" \")    \n",
    "    df[text_field] = df[text_field].str.replace(r\"@\", \"at\")    \n",
    "    df[text_field] = df[text_field].str.lower()    \n",
    "    return df"
   ]
  },
  {
   "cell_type": "code",
   "execution_count": 8,
   "id": "d8edcdd4-b1b6-4e76-a424-d0cf2cba9175",
   "metadata": {},
   "outputs": [
    {
     "name": "stderr",
     "output_type": "stream",
     "text": [
      "/tmp/ipykernel_3396335/1108453554.py:3: FutureWarning: The default value of regex will change from True to False in a future version.\n",
      "  df[text_field] = df[text_field].str.replace(r\"http\\S+\", \"\")\n",
      "/tmp/ipykernel_3396335/1108453554.py:5: FutureWarning: The default value of regex will change from True to False in a future version.\n",
      "  df[text_field] = df[text_field].str.replace(r\"@\\S+\", \"\")\n",
      "/tmp/ipykernel_3396335/1108453554.py:6: FutureWarning: The default value of regex will change from True to False in a future version.\n",
      "  df[text_field] = df[text_field].str.replace(r\"[^A-Za-z0-9(),!?@\\'\\`\\\"\\_\\n]\", \" \")\n"
     ]
    }
   ],
   "source": [
    "#Limpeza e regravação do arquivo de saída limpo \n",
    "clean_questions = standardize_text(questions, \"text\") \n",
    "clean_questions.to_csv(\"clean_data.csv\")"
   ]
  },
  {
   "cell_type": "code",
   "execution_count": 9,
   "id": "a5d67cb0-033a-4507-b81f-7f81e3d4aca4",
   "metadata": {},
   "outputs": [
    {
     "data": {
      "text/html": [
       "<div>\n",
       "<style scoped>\n",
       "    .dataframe tbody tr th:only-of-type {\n",
       "        vertical-align: middle;\n",
       "    }\n",
       "\n",
       "    .dataframe tbody tr th {\n",
       "        vertical-align: top;\n",
       "    }\n",
       "\n",
       "    .dataframe thead th {\n",
       "        text-align: right;\n",
       "    }\n",
       "</style>\n",
       "<table border=\"1\" class=\"dataframe\">\n",
       "  <thead>\n",
       "    <tr style=\"text-align: right;\">\n",
       "      <th></th>\n",
       "      <th>text</th>\n",
       "      <th>choose_one</th>\n",
       "      <th>class_label</th>\n",
       "    </tr>\n",
       "  </thead>\n",
       "  <tbody>\n",
       "    <tr>\n",
       "      <th>0</th>\n",
       "      <td>just happened a terrible car crash</td>\n",
       "      <td>Relevant</td>\n",
       "      <td>1</td>\n",
       "    </tr>\n",
       "    <tr>\n",
       "      <th>1</th>\n",
       "      <td>our deeds are the reason of this  earthquake m...</td>\n",
       "      <td>Relevant</td>\n",
       "      <td>1</td>\n",
       "    </tr>\n",
       "    <tr>\n",
       "      <th>2</th>\n",
       "      <td>heard about  earthquake is different cities, s...</td>\n",
       "      <td>Relevant</td>\n",
       "      <td>1</td>\n",
       "    </tr>\n",
       "    <tr>\n",
       "      <th>3</th>\n",
       "      <td>there is a forest fire at spot pond, geese are...</td>\n",
       "      <td>Relevant</td>\n",
       "      <td>1</td>\n",
       "    </tr>\n",
       "    <tr>\n",
       "      <th>4</th>\n",
       "      <td>forest fire near la ronge sask  canada</td>\n",
       "      <td>Relevant</td>\n",
       "      <td>1</td>\n",
       "    </tr>\n",
       "  </tbody>\n",
       "</table>\n",
       "</div>"
      ],
      "text/plain": [
       "                                                text choose_one  class_label\n",
       "0                 just happened a terrible car crash   Relevant            1\n",
       "1  our deeds are the reason of this  earthquake m...   Relevant            1\n",
       "2  heard about  earthquake is different cities, s...   Relevant            1\n",
       "3  there is a forest fire at spot pond, geese are...   Relevant            1\n",
       "4             forest fire near la ronge sask  canada   Relevant            1"
      ]
     },
     "execution_count": 9,
     "metadata": {},
     "output_type": "execute_result"
    }
   ],
   "source": [
    "#Primeiras linhas \n",
    "clean_questions.head()"
   ]
  },
  {
   "cell_type": "code",
   "execution_count": 10,
   "id": "8cba8452-063c-44f3-a7d5-44d02d0f1c19",
   "metadata": {},
   "outputs": [
    {
     "data": {
      "text/html": [
       "<div>\n",
       "<style scoped>\n",
       "    .dataframe tbody tr th:only-of-type {\n",
       "        vertical-align: middle;\n",
       "    }\n",
       "\n",
       "    .dataframe tbody tr th {\n",
       "        vertical-align: top;\n",
       "    }\n",
       "\n",
       "    .dataframe thead th {\n",
       "        text-align: right;\n",
       "    }\n",
       "</style>\n",
       "<table border=\"1\" class=\"dataframe\">\n",
       "  <thead>\n",
       "    <tr style=\"text-align: right;\">\n",
       "      <th></th>\n",
       "      <th>text</th>\n",
       "      <th>choose_one</th>\n",
       "      <th>class_label</th>\n",
       "    </tr>\n",
       "  </thead>\n",
       "  <tbody>\n",
       "    <tr>\n",
       "      <th>10871</th>\n",
       "      <td>m1 94  01 04 utc ?5km s of volcano hawaii</td>\n",
       "      <td>Relevant</td>\n",
       "      <td>1</td>\n",
       "    </tr>\n",
       "    <tr>\n",
       "      <th>10872</th>\n",
       "      <td>police investigating after an e bike collided ...</td>\n",
       "      <td>Relevant</td>\n",
       "      <td>1</td>\n",
       "    </tr>\n",
       "    <tr>\n",
       "      <th>10873</th>\n",
       "      <td>the latest  more homes razed by northern calif...</td>\n",
       "      <td>Relevant</td>\n",
       "      <td>1</td>\n",
       "    </tr>\n",
       "    <tr>\n",
       "      <th>10874</th>\n",
       "      <td>meg issues hazardous weather outlook (hwo)</td>\n",
       "      <td>Relevant</td>\n",
       "      <td>1</td>\n",
       "    </tr>\n",
       "    <tr>\n",
       "      <th>10875</th>\n",
       "      <td>cityofcalgary has activated its municipal eme...</td>\n",
       "      <td>Relevant</td>\n",
       "      <td>1</td>\n",
       "    </tr>\n",
       "  </tbody>\n",
       "</table>\n",
       "</div>"
      ],
      "text/plain": [
       "                                                    text choose_one  \\\n",
       "10871        m1 94  01 04 utc ?5km s of volcano hawaii     Relevant   \n",
       "10872  police investigating after an e bike collided ...   Relevant   \n",
       "10873  the latest  more homes razed by northern calif...   Relevant   \n",
       "10874        meg issues hazardous weather outlook (hwo)    Relevant   \n",
       "10875   cityofcalgary has activated its municipal eme...   Relevant   \n",
       "\n",
       "       class_label  \n",
       "10871            1  \n",
       "10872            1  \n",
       "10873            1  \n",
       "10874            1  \n",
       "10875            1  "
      ]
     },
     "execution_count": 10,
     "metadata": {},
     "output_type": "execute_result"
    }
   ],
   "source": [
    "#Últimas linhas \n",
    "clean_questions.tail()"
   ]
  },
  {
   "cell_type": "code",
   "execution_count": 11,
   "id": "8810559c-63be-4af3-80ab-b884e3440cbe",
   "metadata": {},
   "outputs": [
    {
     "data": {
      "text/html": [
       "<div>\n",
       "<style scoped>\n",
       "    .dataframe tbody tr th:only-of-type {\n",
       "        vertical-align: middle;\n",
       "    }\n",
       "\n",
       "    .dataframe tbody tr th {\n",
       "        vertical-align: top;\n",
       "    }\n",
       "\n",
       "    .dataframe thead th {\n",
       "        text-align: right;\n",
       "    }\n",
       "</style>\n",
       "<table border=\"1\" class=\"dataframe\">\n",
       "  <thead>\n",
       "    <tr style=\"text-align: right;\">\n",
       "      <th></th>\n",
       "      <th>text</th>\n",
       "      <th>choose_one</th>\n",
       "    </tr>\n",
       "    <tr>\n",
       "      <th>class_label</th>\n",
       "      <th></th>\n",
       "      <th></th>\n",
       "    </tr>\n",
       "  </thead>\n",
       "  <tbody>\n",
       "    <tr>\n",
       "      <th>0</th>\n",
       "      <td>6187</td>\n",
       "      <td>6187</td>\n",
       "    </tr>\n",
       "    <tr>\n",
       "      <th>1</th>\n",
       "      <td>4673</td>\n",
       "      <td>4673</td>\n",
       "    </tr>\n",
       "    <tr>\n",
       "      <th>2</th>\n",
       "      <td>16</td>\n",
       "      <td>16</td>\n",
       "    </tr>\n",
       "  </tbody>\n",
       "</table>\n",
       "</div>"
      ],
      "text/plain": [
       "             text  choose_one\n",
       "class_label                  \n",
       "0            6187        6187\n",
       "1            4673        4673\n",
       "2              16          16"
      ]
     },
     "execution_count": 11,
     "metadata": {},
     "output_type": "execute_result"
    }
   ],
   "source": [
    "clean_questions.groupby(\"class_label\").count()"
   ]
  },
  {
   "cell_type": "code",
   "execution_count": 12,
   "id": "2fd594d2-44e8-43f0-a845-ab3805e64d7d",
   "metadata": {},
   "outputs": [],
   "source": [
    "from nltk.tokenize import RegexpTokenizer \n",
    "# Método de quebra dos dados \n",
    "tokenizer = RegexpTokenizer(r'\\w+') \n",
    "# Gerando listas de sentenças quebradas \n",
    "clean_questions[\"tokens\"] = clean_questions[\"text\"].apply(tokenizer.tokenize)"
   ]
  },
  {
   "cell_type": "code",
   "execution_count": 13,
   "id": "2cc388d4-5a17-40d8-b932-711467c25ef4",
   "metadata": {},
   "outputs": [
    {
     "data": {
      "text/html": [
       "<div>\n",
       "<style scoped>\n",
       "    .dataframe tbody tr th:only-of-type {\n",
       "        vertical-align: middle;\n",
       "    }\n",
       "\n",
       "    .dataframe tbody tr th {\n",
       "        vertical-align: top;\n",
       "    }\n",
       "\n",
       "    .dataframe thead th {\n",
       "        text-align: right;\n",
       "    }\n",
       "</style>\n",
       "<table border=\"1\" class=\"dataframe\">\n",
       "  <thead>\n",
       "    <tr style=\"text-align: right;\">\n",
       "      <th></th>\n",
       "      <th>text</th>\n",
       "      <th>choose_one</th>\n",
       "      <th>class_label</th>\n",
       "      <th>tokens</th>\n",
       "    </tr>\n",
       "  </thead>\n",
       "  <tbody>\n",
       "    <tr>\n",
       "      <th>0</th>\n",
       "      <td>just happened a terrible car crash</td>\n",
       "      <td>Relevant</td>\n",
       "      <td>1</td>\n",
       "      <td>[just, happened, a, terrible, car, crash]</td>\n",
       "    </tr>\n",
       "    <tr>\n",
       "      <th>1</th>\n",
       "      <td>our deeds are the reason of this  earthquake m...</td>\n",
       "      <td>Relevant</td>\n",
       "      <td>1</td>\n",
       "      <td>[our, deeds, are, the, reason, of, this, earth...</td>\n",
       "    </tr>\n",
       "    <tr>\n",
       "      <th>2</th>\n",
       "      <td>heard about  earthquake is different cities, s...</td>\n",
       "      <td>Relevant</td>\n",
       "      <td>1</td>\n",
       "      <td>[heard, about, earthquake, is, different, citi...</td>\n",
       "    </tr>\n",
       "    <tr>\n",
       "      <th>3</th>\n",
       "      <td>there is a forest fire at spot pond, geese are...</td>\n",
       "      <td>Relevant</td>\n",
       "      <td>1</td>\n",
       "      <td>[there, is, a, forest, fire, at, spot, pond, g...</td>\n",
       "    </tr>\n",
       "    <tr>\n",
       "      <th>4</th>\n",
       "      <td>forest fire near la ronge sask  canada</td>\n",
       "      <td>Relevant</td>\n",
       "      <td>1</td>\n",
       "      <td>[forest, fire, near, la, ronge, sask, canada]</td>\n",
       "    </tr>\n",
       "  </tbody>\n",
       "</table>\n",
       "</div>"
      ],
      "text/plain": [
       "                                                text choose_one  class_label  \\\n",
       "0                 just happened a terrible car crash   Relevant            1   \n",
       "1  our deeds are the reason of this  earthquake m...   Relevant            1   \n",
       "2  heard about  earthquake is different cities, s...   Relevant            1   \n",
       "3  there is a forest fire at spot pond, geese are...   Relevant            1   \n",
       "4             forest fire near la ronge sask  canada   Relevant            1   \n",
       "\n",
       "                                              tokens  \n",
       "0          [just, happened, a, terrible, car, crash]  \n",
       "1  [our, deeds, are, the, reason, of, this, earth...  \n",
       "2  [heard, about, earthquake, is, different, citi...  \n",
       "3  [there, is, a, forest, fire, at, spot, pond, g...  \n",
       "4      [forest, fire, near, la, ronge, sask, canada]  "
      ]
     },
     "execution_count": 13,
     "metadata": {},
     "output_type": "execute_result"
    }
   ],
   "source": [
    "#Primeiras linhas \n",
    "clean_questions.head()"
   ]
  },
  {
   "cell_type": "code",
   "execution_count": 14,
   "id": "1904c833-4acb-4984-bb82-7be64c575f78",
   "metadata": {},
   "outputs": [
    {
     "data": {
      "text/html": [
       "<div>\n",
       "<style scoped>\n",
       "    .dataframe tbody tr th:only-of-type {\n",
       "        vertical-align: middle;\n",
       "    }\n",
       "\n",
       "    .dataframe tbody tr th {\n",
       "        vertical-align: top;\n",
       "    }\n",
       "\n",
       "    .dataframe thead th {\n",
       "        text-align: right;\n",
       "    }\n",
       "</style>\n",
       "<table border=\"1\" class=\"dataframe\">\n",
       "  <thead>\n",
       "    <tr style=\"text-align: right;\">\n",
       "      <th></th>\n",
       "      <th>text</th>\n",
       "      <th>choose_one</th>\n",
       "      <th>class_label</th>\n",
       "      <th>tokens</th>\n",
       "    </tr>\n",
       "  </thead>\n",
       "  <tbody>\n",
       "    <tr>\n",
       "      <th>10871</th>\n",
       "      <td>m1 94  01 04 utc ?5km s of volcano hawaii</td>\n",
       "      <td>Relevant</td>\n",
       "      <td>1</td>\n",
       "      <td>[m1, 94, 01, 04, utc, 5km, s, of, volcano, haw...</td>\n",
       "    </tr>\n",
       "    <tr>\n",
       "      <th>10872</th>\n",
       "      <td>police investigating after an e bike collided ...</td>\n",
       "      <td>Relevant</td>\n",
       "      <td>1</td>\n",
       "      <td>[police, investigating, after, an, e, bike, co...</td>\n",
       "    </tr>\n",
       "    <tr>\n",
       "      <th>10873</th>\n",
       "      <td>the latest  more homes razed by northern calif...</td>\n",
       "      <td>Relevant</td>\n",
       "      <td>1</td>\n",
       "      <td>[the, latest, more, homes, razed, by, northern...</td>\n",
       "    </tr>\n",
       "    <tr>\n",
       "      <th>10874</th>\n",
       "      <td>meg issues hazardous weather outlook (hwo)</td>\n",
       "      <td>Relevant</td>\n",
       "      <td>1</td>\n",
       "      <td>[meg, issues, hazardous, weather, outlook, hwo]</td>\n",
       "    </tr>\n",
       "    <tr>\n",
       "      <th>10875</th>\n",
       "      <td>cityofcalgary has activated its municipal eme...</td>\n",
       "      <td>Relevant</td>\n",
       "      <td>1</td>\n",
       "      <td>[cityofcalgary, has, activated, its, municipal...</td>\n",
       "    </tr>\n",
       "  </tbody>\n",
       "</table>\n",
       "</div>"
      ],
      "text/plain": [
       "                                                    text choose_one  \\\n",
       "10871        m1 94  01 04 utc ?5km s of volcano hawaii     Relevant   \n",
       "10872  police investigating after an e bike collided ...   Relevant   \n",
       "10873  the latest  more homes razed by northern calif...   Relevant   \n",
       "10874        meg issues hazardous weather outlook (hwo)    Relevant   \n",
       "10875   cityofcalgary has activated its municipal eme...   Relevant   \n",
       "\n",
       "       class_label                                             tokens  \n",
       "10871            1  [m1, 94, 01, 04, utc, 5km, s, of, volcano, haw...  \n",
       "10872            1  [police, investigating, after, an, e, bike, co...  \n",
       "10873            1  [the, latest, more, homes, razed, by, northern...  \n",
       "10874            1    [meg, issues, hazardous, weather, outlook, hwo]  \n",
       "10875            1  [cityofcalgary, has, activated, its, municipal...  "
      ]
     },
     "execution_count": 14,
     "metadata": {},
     "output_type": "execute_result"
    }
   ],
   "source": [
    "#Últimas linhas \n",
    "clean_questions.tail()"
   ]
  },
  {
   "cell_type": "code",
   "execution_count": 15,
   "id": "13efc545-1109-4599-aab4-4584ab84a3f2",
   "metadata": {},
   "outputs": [
    {
     "data": {
      "text/html": [
       "<div>\n",
       "<style scoped>\n",
       "    .dataframe tbody tr th:only-of-type {\n",
       "        vertical-align: middle;\n",
       "    }\n",
       "\n",
       "    .dataframe tbody tr th {\n",
       "        vertical-align: top;\n",
       "    }\n",
       "\n",
       "    .dataframe thead th {\n",
       "        text-align: right;\n",
       "    }\n",
       "</style>\n",
       "<table border=\"1\" class=\"dataframe\">\n",
       "  <thead>\n",
       "    <tr style=\"text-align: right;\">\n",
       "      <th></th>\n",
       "      <th>text</th>\n",
       "      <th>choose_one</th>\n",
       "      <th>tokens</th>\n",
       "    </tr>\n",
       "    <tr>\n",
       "      <th>class_label</th>\n",
       "      <th></th>\n",
       "      <th></th>\n",
       "      <th></th>\n",
       "    </tr>\n",
       "  </thead>\n",
       "  <tbody>\n",
       "    <tr>\n",
       "      <th>0</th>\n",
       "      <td>6187</td>\n",
       "      <td>6187</td>\n",
       "      <td>6187</td>\n",
       "    </tr>\n",
       "    <tr>\n",
       "      <th>1</th>\n",
       "      <td>4673</td>\n",
       "      <td>4673</td>\n",
       "      <td>4673</td>\n",
       "    </tr>\n",
       "    <tr>\n",
       "      <th>2</th>\n",
       "      <td>16</td>\n",
       "      <td>16</td>\n",
       "      <td>16</td>\n",
       "    </tr>\n",
       "  </tbody>\n",
       "</table>\n",
       "</div>"
      ],
      "text/plain": [
       "             text  choose_one  tokens\n",
       "class_label                          \n",
       "0            6187        6187    6187\n",
       "1            4673        4673    4673\n",
       "2              16          16      16"
      ]
     },
     "execution_count": 15,
     "metadata": {},
     "output_type": "execute_result"
    }
   ],
   "source": [
    "clean_questions.groupby(\"class_label\").count()"
   ]
  },
  {
   "cell_type": "code",
   "execution_count": 16,
   "id": "89832df2-a4cb-4b84-ba4f-2aae80d0ff83",
   "metadata": {},
   "outputs": [],
   "source": [
    "from nltk.tokenize import RegexpTokenizer \n",
    "# Método de quebra dos dados \n",
    "tokenizer = RegexpTokenizer(r'\\w+') \n",
    "# Gerando listas de sentenças quebradas \n",
    "clean_questions[\"tokens\"] = clean_questions[\"text\"].apply(tokenizer.tokenize)"
   ]
  },
  {
   "cell_type": "code",
   "execution_count": 17,
   "id": "57d291c6-0a86-43de-9d73-3b54d95c57c0",
   "metadata": {},
   "outputs": [
    {
     "data": {
      "text/html": [
       "<div>\n",
       "<style scoped>\n",
       "    .dataframe tbody tr th:only-of-type {\n",
       "        vertical-align: middle;\n",
       "    }\n",
       "\n",
       "    .dataframe tbody tr th {\n",
       "        vertical-align: top;\n",
       "    }\n",
       "\n",
       "    .dataframe thead th {\n",
       "        text-align: right;\n",
       "    }\n",
       "</style>\n",
       "<table border=\"1\" class=\"dataframe\">\n",
       "  <thead>\n",
       "    <tr style=\"text-align: right;\">\n",
       "      <th></th>\n",
       "      <th>text</th>\n",
       "      <th>choose_one</th>\n",
       "      <th>class_label</th>\n",
       "      <th>tokens</th>\n",
       "    </tr>\n",
       "  </thead>\n",
       "  <tbody>\n",
       "    <tr>\n",
       "      <th>0</th>\n",
       "      <td>just happened a terrible car crash</td>\n",
       "      <td>Relevant</td>\n",
       "      <td>1</td>\n",
       "      <td>[just, happened, a, terrible, car, crash]</td>\n",
       "    </tr>\n",
       "    <tr>\n",
       "      <th>1</th>\n",
       "      <td>our deeds are the reason of this  earthquake m...</td>\n",
       "      <td>Relevant</td>\n",
       "      <td>1</td>\n",
       "      <td>[our, deeds, are, the, reason, of, this, earth...</td>\n",
       "    </tr>\n",
       "    <tr>\n",
       "      <th>2</th>\n",
       "      <td>heard about  earthquake is different cities, s...</td>\n",
       "      <td>Relevant</td>\n",
       "      <td>1</td>\n",
       "      <td>[heard, about, earthquake, is, different, citi...</td>\n",
       "    </tr>\n",
       "    <tr>\n",
       "      <th>3</th>\n",
       "      <td>there is a forest fire at spot pond, geese are...</td>\n",
       "      <td>Relevant</td>\n",
       "      <td>1</td>\n",
       "      <td>[there, is, a, forest, fire, at, spot, pond, g...</td>\n",
       "    </tr>\n",
       "    <tr>\n",
       "      <th>4</th>\n",
       "      <td>forest fire near la ronge sask  canada</td>\n",
       "      <td>Relevant</td>\n",
       "      <td>1</td>\n",
       "      <td>[forest, fire, near, la, ronge, sask, canada]</td>\n",
       "    </tr>\n",
       "  </tbody>\n",
       "</table>\n",
       "</div>"
      ],
      "text/plain": [
       "                                                text choose_one  class_label  \\\n",
       "0                 just happened a terrible car crash   Relevant            1   \n",
       "1  our deeds are the reason of this  earthquake m...   Relevant            1   \n",
       "2  heard about  earthquake is different cities, s...   Relevant            1   \n",
       "3  there is a forest fire at spot pond, geese are...   Relevant            1   \n",
       "4             forest fire near la ronge sask  canada   Relevant            1   \n",
       "\n",
       "                                              tokens  \n",
       "0          [just, happened, a, terrible, car, crash]  \n",
       "1  [our, deeds, are, the, reason, of, this, earth...  \n",
       "2  [heard, about, earthquake, is, different, citi...  \n",
       "3  [there, is, a, forest, fire, at, spot, pond, g...  \n",
       "4      [forest, fire, near, la, ronge, sask, canada]  "
      ]
     },
     "execution_count": 17,
     "metadata": {},
     "output_type": "execute_result"
    }
   ],
   "source": [
    "#Primeiras linhas \n",
    "clean_questions.head()"
   ]
  },
  {
   "cell_type": "code",
   "execution_count": 18,
   "id": "baf0f9f4-7bc2-4f4f-82d1-b21f22e08eef",
   "metadata": {},
   "outputs": [
    {
     "data": {
      "text/html": [
       "<div>\n",
       "<style scoped>\n",
       "    .dataframe tbody tr th:only-of-type {\n",
       "        vertical-align: middle;\n",
       "    }\n",
       "\n",
       "    .dataframe tbody tr th {\n",
       "        vertical-align: top;\n",
       "    }\n",
       "\n",
       "    .dataframe thead th {\n",
       "        text-align: right;\n",
       "    }\n",
       "</style>\n",
       "<table border=\"1\" class=\"dataframe\">\n",
       "  <thead>\n",
       "    <tr style=\"text-align: right;\">\n",
       "      <th></th>\n",
       "      <th>text</th>\n",
       "      <th>choose_one</th>\n",
       "      <th>class_label</th>\n",
       "      <th>tokens</th>\n",
       "    </tr>\n",
       "  </thead>\n",
       "  <tbody>\n",
       "    <tr>\n",
       "      <th>10871</th>\n",
       "      <td>m1 94  01 04 utc ?5km s of volcano hawaii</td>\n",
       "      <td>Relevant</td>\n",
       "      <td>1</td>\n",
       "      <td>[m1, 94, 01, 04, utc, 5km, s, of, volcano, haw...</td>\n",
       "    </tr>\n",
       "    <tr>\n",
       "      <th>10872</th>\n",
       "      <td>police investigating after an e bike collided ...</td>\n",
       "      <td>Relevant</td>\n",
       "      <td>1</td>\n",
       "      <td>[police, investigating, after, an, e, bike, co...</td>\n",
       "    </tr>\n",
       "    <tr>\n",
       "      <th>10873</th>\n",
       "      <td>the latest  more homes razed by northern calif...</td>\n",
       "      <td>Relevant</td>\n",
       "      <td>1</td>\n",
       "      <td>[the, latest, more, homes, razed, by, northern...</td>\n",
       "    </tr>\n",
       "    <tr>\n",
       "      <th>10874</th>\n",
       "      <td>meg issues hazardous weather outlook (hwo)</td>\n",
       "      <td>Relevant</td>\n",
       "      <td>1</td>\n",
       "      <td>[meg, issues, hazardous, weather, outlook, hwo]</td>\n",
       "    </tr>\n",
       "    <tr>\n",
       "      <th>10875</th>\n",
       "      <td>cityofcalgary has activated its municipal eme...</td>\n",
       "      <td>Relevant</td>\n",
       "      <td>1</td>\n",
       "      <td>[cityofcalgary, has, activated, its, municipal...</td>\n",
       "    </tr>\n",
       "  </tbody>\n",
       "</table>\n",
       "</div>"
      ],
      "text/plain": [
       "                                                    text choose_one  \\\n",
       "10871        m1 94  01 04 utc ?5km s of volcano hawaii     Relevant   \n",
       "10872  police investigating after an e bike collided ...   Relevant   \n",
       "10873  the latest  more homes razed by northern calif...   Relevant   \n",
       "10874        meg issues hazardous weather outlook (hwo)    Relevant   \n",
       "10875   cityofcalgary has activated its municipal eme...   Relevant   \n",
       "\n",
       "       class_label                                             tokens  \n",
       "10871            1  [m1, 94, 01, 04, utc, 5km, s, of, volcano, haw...  \n",
       "10872            1  [police, investigating, after, an, e, bike, co...  \n",
       "10873            1  [the, latest, more, homes, razed, by, northern...  \n",
       "10874            1    [meg, issues, hazardous, weather, outlook, hwo]  \n",
       "10875            1  [cityofcalgary, has, activated, its, municipal...  "
      ]
     },
     "execution_count": 18,
     "metadata": {},
     "output_type": "execute_result"
    }
   ],
   "source": [
    "#Últimas linhas \n",
    "clean_questions.tail()"
   ]
  },
  {
   "cell_type": "code",
   "execution_count": 19,
   "id": "bc6feeb6-8e5c-433e-b77d-6feee6000a7c",
   "metadata": {},
   "outputs": [
    {
     "name": "stdout",
     "output_type": "stream",
     "text": [
      "154724 Quantidade total de palavras, com um vocabulario de 18101\n",
      "Tamanho máximo de uma sentença 34\n"
     ]
    }
   ],
   "source": [
    "clean_questions.tail()\n",
    "#Inspecioanndo novamente os dados \n",
    "all_words = [word for tokens in clean_questions[\"tokens\"] for word in tokens] \n",
    "sentence_lengths = [len(tokens) for tokens in clean_questions[\"tokens\"]] \n",
    "VOCAB = sorted(list(set(all_words))) \n",
    "print(\"%s Quantidade total de palavras, com um vocabulario de %s\" % (len(all_words), len(VOCAB))) \n",
    "print(\"Tamanho máximo de uma sentença %s\" % max(sentence_lengths))"
   ]
  },
  {
   "cell_type": "code",
   "execution_count": 20,
   "id": "b9103a7f-c663-42d4-91c6-f3524ad7f224",
   "metadata": {},
   "outputs": [
    {
     "data": {
      "image/png": "[encoded data removed]",
      "text/plain": [
       "<Figure size 720x720 with 1 Axes>"
      ]
     },
     "metadata": {
      "needs_background": "light"
     },
     "output_type": "display_data"
    }
   ],
   "source": [
    "#Distribuilção das sentenças por quantidade de palavras \n",
    "fig = plt.figure(figsize=(10, 10)) \n",
    "plt.xlabel('Tamanho da setença') \n",
    "plt.ylabel('Número de sentenças') \n",
    "plt.hist(sentence_lengths) \n",
    "plt.show()"
   ]
  },
  {
   "cell_type": "markdown",
   "id": "5418fcc8-7d3e-4c3b-bf91-d99081615e7d",
   "metadata": {},
   "source": [
    "# Trailhead 2 - NLP e ML"
   ]
  },
  {
   "cell_type": "code",
   "execution_count": 21,
   "id": "b359b7bd-7af0-45f3-ad60-e7fd146f883d",
   "metadata": {},
   "outputs": [],
   "source": [
    "from sklearn.model_selection import train_test_split\n",
    "from sklearn.feature_extraction.text import CountVectorizer, TfidfVectorizer"
   ]
  },
  {
   "cell_type": "code",
   "execution_count": 22,
   "id": "ea193a43-58ad-42ed-a148-a3bae05213a5",
   "metadata": {},
   "outputs": [],
   "source": [
    "# Construindo bag-of-words com count-vectorizer \n",
    "count_vectorizer = CountVectorizer() \n",
    "# Separando o texto da variável alvo \n",
    "list_corpus = clean_questions[\"text\"].tolist() \n",
    "list_labels = clean_questions[\"class_label\"].tolist() \n",
    "# Construindo exemplos para treinamento e teste \n",
    "X_train, X_test, y_train, y_test = train_test_split(list_corpus, list_labels, test_size=0.2, random_state=40)                                                           \n",
    "# Aprendendo o vacabulário e contabilizando os termos para teste \n",
    "X_train_counts = count_vectorizer.fit_transform(X_train) \n",
    "# Contabilizando os termos no vocabulário aprendido para treino \n",
    "X_test_counts = count_vectorizer.transform(X_test)"
   ]
  },
  {
   "cell_type": "code",
   "execution_count": 23,
   "id": "a62aa720-9cef-4b0a-9765-c379add6b61a",
   "metadata": {},
   "outputs": [],
   "source": [
    "# Método para plotar o gráfico com a distribuição do vocabulário por variável alvo \n",
    "def plot_LSA(test_data, test_labels, savepath=\"PCA_demo.csv\", plot=True):\n",
    "    lsa = TruncatedSVD(n_components=2)        \n",
    "    lsa.fit(test_data)        \n",
    "    lsa_scores = lsa.transform(test_data)        \n",
    "    color_mapper = {label:idx for idx,label in enumerate(set(test_labels))}        \n",
    "    color_column = [color_mapper[label] for label in test_labels]        \n",
    "    colors = ['orange','blue','blue']        \n",
    "    if plot:            \n",
    "        plt.scatter(lsa_scores[:,0], lsa_scores[:,1], s=8, alpha=.8, c=test_labels, cmap=matplotlib.colors.ListedColormap(colors))\n",
    "        red_patch = mpatches.Patch(color='orange', label='Irrelevant')            \n",
    "        green_patch = mpatches.Patch(color='blue', label='Disaster')           \n",
    "        plt.legend(handles=[red_patch, green_patch], prop={'size': 20})            \n",
    "        fig = plt.figure(figsize=(10, 10))          \n",
    "        plot_LSA(X_train_counts, y_train) \n",
    "        plt.show()"
   ]
  },
  {
   "cell_type": "code",
   "execution_count": 24,
   "id": "42ba4b73-d1fc-4245-a367-97b67ac4d00b",
   "metadata": {},
   "outputs": [],
   "source": [
    "from sklearn.linear_model import LogisticRegression"
   ]
  },
  {
   "cell_type": "code",
   "execution_count": 25,
   "id": "182a68ca-356e-4e0f-a45d-b808d6edc5a7",
   "metadata": {},
   "outputs": [],
   "source": [
    "# Aplicando configurações no modelo \n",
    "clf = LogisticRegression(C=30.0, class_weight='balanced', solver='newton-cg',multi_class='multinomial', n_jobs=-1, random_state=40) \n",
    "#Treinando o modelo com o vocabulário construindo e as variáveis alvo \n",
    "clf.fit(X_train_counts, y_train) \n",
    "#Realizando as predições para o conjunto de teste \n",
    "y_predicted_counts = clf.predict(X_test_counts)"
   ]
  },
  {
   "cell_type": "code",
   "execution_count": 26,
   "id": "d3570b54-544d-4eae-a617-871422ed54a6",
   "metadata": {},
   "outputs": [],
   "source": [
    "from sklearn.metrics import accuracy_score, f1_score, precision_score, recall_score, classification_report"
   ]
  },
  {
   "cell_type": "code",
   "execution_count": 27,
   "id": "c5053d79-0e9b-4e2f-9657-78580f62cc3e",
   "metadata": {},
   "outputs": [
    {
     "name": "stdout",
     "output_type": "stream",
     "text": [
      "accuracy = 0.754, precision = 0.752, recall = 0.754, f1 = 0.753\n"
     ]
    }
   ],
   "source": [
    "# Método para extração das métricas de avaliação usando a parte dos dados que separamos para teste. \n",
    "def get_metrics(y_test, y_predicted):      \n",
    "    # true positives / (true positives+false positives)    \n",
    "    precision = precision_score(y_test, y_predicted, pos_label=None,average='weighted')                 \n",
    "    # true positives / (true positives + false negatives)    \n",
    "    recall = recall_score(y_test, y_predicted, pos_label=None,average='weighted')        \n",
    "    # harmonic mean of precision and recall    \n",
    "    f1 = f1_score(y_test, y_predicted, pos_label=None, average='weighted')        \n",
    "    # true positives + true negatives/ total    \n",
    "    accuracy = accuracy_score(y_test, y_predicted)    \n",
    "    return accuracy, precision, recall, f1\n",
    "accuracy, precision, recall, f1 = get_metrics(y_test, y_predicted_counts) \n",
    "print(\"accuracy = %.3f, precision = %.3f, recall = %.3f, f1 = %.3f\" % (accuracy, precision, recall, f1))"
   ]
  },
  {
   "cell_type": "code",
   "execution_count": 28,
   "id": "3ce36bbf-099d-41b8-9cdf-528fbc4fc084",
   "metadata": {},
   "outputs": [],
   "source": [
    "#Método para plotar a matriz de confusão. \n",
    "def plot_confusion_matrix(cm, classes,normalize=False, title='Confusion matrix', cmap=plt.cm.winter): \n",
    "    if normalize:        \n",
    "        cm = cm.astype('float') / cm.sum(axis=1)[:, np.newaxis]    \n",
    "    plt.imshow(cm, interpolation='nearest', cmap=cmap)    \n",
    "    plt.title(title, fontsize=30)    \n",
    "    plt.colorbar()    \n",
    "    tick_marks = np.arange(len(classes))    \n",
    "    plt.xticks(tick_marks, classes, fontsize=20)    \n",
    "    plt.yticks(tick_marks, classes, fontsize=20)        \n",
    "    fmt = '.2f' if normalize else 'd'    \n",
    "    thresh = cm.max() / 2.     \n",
    "    for i, j in itertools.product(range(cm.shape[0]), range(cm.shape[1])):        \n",
    "        plt.text(j, i, format(cm[i, j], fmt), horizontalalignment=\"center\",color=\"white\" if cm[i, j] < thresh else \"black\", fontsize=40)\n",
    "        plt.tight_layout()   \n",
    "        plt.ylabel('True label', fontsize=30)    \n",
    "        plt.xlabel('Predicted label', fontsize=30)     \n",
    "    return plt"
   ]
  },
  {
   "cell_type": "code",
   "execution_count": 29,
   "id": "8951ea98-3ecf-498d-be22-2c19b5786430",
   "metadata": {},
   "outputs": [],
   "source": [
    "from sklearn.metrics import confusion_matrix"
   ]
  },
  {
   "cell_type": "code",
   "execution_count": 30,
   "id": "8e4dbef9-245f-4be1-bb16-85949efaa5f9",
   "metadata": {},
   "outputs": [
    {
     "data": {
      "image/png": "[encoded data removed]",
      "text/plain": [
       "<Figure size 648x648 with 2 Axes>"
      ]
     },
     "metadata": {
      "needs_background": "light"
     },
     "output_type": "display_data"
    },
    {
     "name": "stdout",
     "output_type": "stream",
     "text": [
      "Count Vectorizer confusion matrix\n",
      "[[970 251   3]\n",
      " [274 670   1]\n",
      " [  3   4   0]]\n"
     ]
    }
   ],
   "source": [
    "cm = confusion_matrix(y_test, y_predicted_counts) \n",
    "fig = plt.figure(figsize=(9, 9)) \n",
    "plot = plot_confusion_matrix(cm, classes=['Irrelevant','Disaster','Unsure'], normalize=False, title='Confusion matrix') \n",
    "plt.show() \n",
    "print(\"Count Vectorizer confusion matrix\") \n",
    "print(cm)"
   ]
  },
  {
   "cell_type": "code",
   "execution_count": null,
   "id": "53e20990-78ec-494a-a6cc-d39f3a3a5452",
   "metadata": {},
   "outputs": [],
   "source": []
  },
  {
   "cell_type": "code",
   "execution_count": 31,
   "id": "262eca12-c3ce-4618-8a7f-61d5271a7a40",
   "metadata": {},
   "outputs": [],
   "source": [
    "# Método para identificação das features mais importantes na tomada de decisão. \n",
    "def get_most_important_features(vectorizer, model, n=5):    \n",
    "    index_to_word = {v:k for k,v in vectorizer.vocabulary_.items()}        \n",
    "    # loop for each class    \n",
    "    classes = {}    \n",
    "    for class_index in range(model.coef_.shape[0]):        \n",
    "        word_importances = [(el, index_to_word[i]) for i,el in enumerate(model.coef_[class_index])]        \n",
    "        sorted_coeff = sorted(word_importances, key = lambda x : x[0], reverse=True)        \n",
    "        tops = sorted(sorted_coeff[:n], key = lambda x : x[0])        \n",
    "        bottom = sorted_coeff[-n:]        \n",
    "        classes[class_index] = {'tops':tops,'bottom':bottom}    \n",
    "    return classes \n",
    "importance = get_most_important_features(count_vectorizer, clf, 10)"
   ]
  },
  {
   "cell_type": "code",
   "execution_count": 32,
   "id": "b8ef540d-1e13-42f2-b98f-f0dcfd565e95",
   "metadata": {},
   "outputs": [
    {
     "data": {
      "image/png": "[encoded data removed]",
      "text/plain": [
       "<Figure size 720x720 with 2 Axes>"
      ]
     },
     "metadata": {
      "needs_background": "light"
     },
     "output_type": "display_data"
    }
   ],
   "source": [
    "# Método para plotar as featrues mais importantes para cada variável alvo. \n",
    "def plot_important_words(top_scores, top_words, bottom_scores, bottom_words, name):    \n",
    "    y_pos = np.arange(len(top_words))    \n",
    "    top_pairs = [(a,b) for a,b in zip(top_words, top_scores)]    \n",
    "    top_pairs = sorted(top_pairs, key=lambda x: x[1])        \n",
    "    bottom_pairs = [(a,b) for a,b in zip(bottom_words, bottom_scores)]    \n",
    "    bottom_pairs = sorted(bottom_pairs, key=lambda x: x[1], reverse=True)        \n",
    "    top_words = [a[0] for a in top_pairs]    \n",
    "    top_scores = [a[1] for a in top_pairs]        \n",
    "    bottom_words = [a[0] for a in bottom_pairs]    \n",
    "    bottom_scores = [a[1] for a in bottom_pairs]        \n",
    "    fig = plt.figure(figsize=(10, 10))      \n",
    "    plt.subplot(121)    \n",
    "    plt.barh(y_pos,bottom_scores, align='center', alpha=0.5)    \n",
    "    plt.title('Irrelevant', fontsize=20)    \n",
    "    plt.yticks(y_pos, bottom_words, fontsize=14)    \n",
    "    plt.suptitle('Key words', fontsize=16)    \n",
    "    plt.xlabel('Importance', fontsize=20)        \n",
    "    plt.subplot(122)    \n",
    "    plt.barh(y_pos,top_scores, align='center', alpha=0.5)    \n",
    "    plt.title('Disaster', fontsize=20)    \n",
    "    plt.yticks(y_pos, top_words, fontsize=14)    \n",
    "    plt.suptitle(name, fontsize=16)    \n",
    "    plt.xlabel('Importance', fontsize=20)        \n",
    "    plt.subplots_adjust(wspace=0.8)    \n",
    "    plt.show() \n",
    "top_scores = [a[0] for a in importance[1]['tops']] \n",
    "top_words = [a[1] for a in importance[1]['tops']] \n",
    "bottom_scores = [a[0] for a in importance[1]['bottom']] \n",
    "bottom_words = [a[1] for a in importance[1]['bottom']] \n",
    "plot_important_words(top_scores, top_words, bottom_scores, bottom_words, \"Most important words for relevance\")"
   ]
  },
  {
   "cell_type": "code",
   "execution_count": 33,
   "id": "6029ef7c-7704-4f75-8d19-47c0eb44fcb8",
   "metadata": {},
   "outputs": [],
   "source": [
    "from sklearn.decomposition import PCA, TruncatedSVD"
   ]
  },
  {
   "cell_type": "code",
   "execution_count": 34,
   "id": "55269985-0452-46d3-8247-ebe77c339aba",
   "metadata": {},
   "outputs": [],
   "source": [
    "# Construindo bag-of-words com count-vectorizer \n",
    "tfidf_vectorizer = TfidfVectorizer() \n",
    "# Aprendendo o vacabulário e contabilizando os termos para teste \n",
    "X_train_tfidf = tfidf_vectorizer.fit_transform(X_train) \n",
    "# Contabilizando os termos no vocabulário aprendido para treino \n",
    "X_test_tfidf = tfidf_vectorizer.transform(X_test) \n",
    "# Plotando a distribuição do vocabulário \n",
    "#fig = plt.figure(figsize=(10, 10))          \n",
    "#plot_LSA(X_train_tfidf, y_train) \n",
    "#plt.show()"
   ]
  },
  {
   "cell_type": "code",
   "execution_count": null,
   "id": "01fc7719-92bf-4fc1-99f8-774b0f21b18c",
   "metadata": {},
   "outputs": [],
   "source": []
  },
  {
   "cell_type": "code",
   "execution_count": 35,
   "id": "d74a0ea5-3cd3-4961-b005-f08764f7221d",
   "metadata": {},
   "outputs": [],
   "source": [
    "clf_tfidf = LogisticRegression(C=30.0, class_weight='balanced', solver='newton-cg', multi_class='multinomial', n_jobs=-1, random_state=40) \n",
    "#Treinando o modelo com o vocabulário construindo e as variáveis alvo \n",
    "clf_tfidf.fit(X_train_tfidf, y_train) \n",
    "y_predicted_tfidf = clf_tfidf.predict(X_test_tfidf)"
   ]
  },
  {
   "cell_type": "code",
   "execution_count": 36,
   "id": "9b226ab5-b65b-4085-b987-cfa16e5452ae",
   "metadata": {},
   "outputs": [
    {
     "name": "stdout",
     "output_type": "stream",
     "text": [
      "accuracy = 0.762, precision = 0.760, recall = 0.762, f1 = 0.761\n"
     ]
    }
   ],
   "source": [
    "clf_tfidf.fit(X_train_tfidf, y_train) \n",
    "y_predicted_tfidf = clf_tfidf.predict(X_test_tfidf)\n",
    "accuracy_tfidf, precision_tfidf, recall_tfidf, f1_tfidf = get_metrics(y_test, y_predicted_tfidf) \n",
    "print(\"accuracy = %.3f, precision = %.3f, recall = %.3f, f1 = %.3f\" % (accuracy_tfidf, precision_tfidf,recall_tfidf, f1_tfidf))"
   ]
  },
  {
   "cell_type": "code",
   "execution_count": 37,
   "id": "8746801c-d6f4-45fe-94f0-000e9dcf21c2",
   "metadata": {},
   "outputs": [
    {
     "data": {
      "image/png": "[encoded data removed]",
      "text/plain": [
       "<Figure size 648x648 with 2 Axes>"
      ]
     },
     "metadata": {
      "needs_background": "light"
     },
     "output_type": "display_data"
    },
    {
     "name": "stdout",
     "output_type": "stream",
     "text": [
      "TFIDF confusion matrix\n",
      "[[974 249   1]\n",
      " [261 684   0]\n",
      " [  3   4   0]]\n",
      "BoW confusion matrix\n",
      "[[970 251   3]\n",
      " [274 670   1]\n",
      " [  3   4   0]]\n"
     ]
    }
   ],
   "source": [
    "cm2 = confusion_matrix(y_test, y_predicted_tfidf) \n",
    "fig = plt.figure(figsize=(9, 9)) \n",
    "plot = plot_confusion_matrix(cm2, classes=['Irrelevant','Disaster','Unsure'], normalize=False, title='Confusion matrix') \n",
    "plt.show() \n",
    "print(\"TFIDF confusion matrix\") \n",
    "print(cm2)\n",
    "print(\"BoW confusion matrix\") \n",
    "print(cm)"
   ]
  },
  {
   "cell_type": "code",
   "execution_count": 38,
   "id": "8e67c3dd-2af6-4ab0-bbf8-795c24bdc513",
   "metadata": {},
   "outputs": [],
   "source": [
    "importance_tfidf = get_most_important_features(tfidf_vectorizer, clf_tfidf, 10)"
   ]
  },
  {
   "cell_type": "code",
   "execution_count": 39,
   "id": "f5a600b8-3124-4fa4-9e61-92c7b350b0f4",
   "metadata": {},
   "outputs": [
    {
     "data": {
      "image/png": "[encoded data removed]",
      "text/plain": [
       "<Figure size 720x720 with 2 Axes>"
      ]
     },
     "metadata": {
      "needs_background": "light"
     },
     "output_type": "display_data"
    }
   ],
   "source": [
    "importance_tfidf = get_most_important_features(tfidf_vectorizer, clf_tfidf, 10)\n",
    "top_scores = [a[0] for a in importance_tfidf[1]['tops']] \n",
    "top_words = [a[1] for a in importance_tfidf[1]['tops']] \n",
    "bottom_scores = [a[0] for a in importance_tfidf[1]['bottom']] \n",
    "bottom_words = [a[1] for a in importance_tfidf[1]['bottom']] \n",
    "plot_important_words(top_scores, top_words, bottom_scores, bottom_words, \"Most important words for relevance\")"
   ]
  },
  {
   "cell_type": "code",
   "execution_count": 40,
   "id": "8c1041f2-8975-4164-bdd2-d016b4d45b58",
   "metadata": {},
   "outputs": [],
   "source": [
    "#Treinando a matriz de relação com notícias do Google \n",
    "#O conjunto de dados para treinar a matriz pode ser acessado em: #https://drive.google.com/file/d/0B7XkCwpI5KDYNlNUTTlSS21pQmM/edit \n",
    "word2vec_path = \"GoogleNews-vectors-negative300.bin.gz\" \n",
    "word2vec = gensim.models.KeyedVectors.load_word2vec_format(word2vec_path, binary=True)"
   ]
  },
  {
   "cell_type": "code",
   "execution_count": 41,
   "id": "462fa24d-4df7-44e7-9a7d-76523141a840",
   "metadata": {},
   "outputs": [],
   "source": [
    "#Método para calcular a distância semântica entre as palavras \n",
    "def get_average_word2vec(tokens_list, vector, generate_missing=False, k=300):    \n",
    "    if len(tokens_list)<1:        \n",
    "        return np.zeros(k)    \n",
    "    if generate_missing:        \n",
    "        vectorized = [vector[word] if word in vector else np.random.rand(k) for word in tokens_list]    \n",
    "    else:        \n",
    "        vectorized = [vector[word] if word in vector else np.zeros(k) for word in tokens_list]    \n",
    "    length = len(vectorized)    \n",
    "    summed = np.sum(vectorized, axis=0)    \n",
    "    averaged = np.divide(summed, length)    \n",
    "    return averaged \n",
    "#Montagem do arquivo de treinamento contento a relação semântica entre as palavras \n",
    "def get_word2vec_embeddings(vectors, clean_questions, generate_missing=False):    \n",
    "    embeddings = clean_questions['tokens'].apply(lambda x: get_average_word2vec(x, vectors,generate_missing=generate_missing))    \n",
    "    return list(embeddings)"
   ]
  },
  {
   "cell_type": "code",
   "execution_count": 42,
   "id": "96ac0315-1f87-4ade-b7a3-4b6fd7c38262",
   "metadata": {},
   "outputs": [],
   "source": [
    "embeddings = get_word2vec_embeddings(word2vec, clean_questions) \n",
    "X_train_word2vec, X_test_word2vec, y_train_word2vec, y_test_word2vec = train_test_split(embeddings, list_labels,test_size=0.2, random_state=40) \n",
    "#fig = plt.figure(figsize=(10, 10))          \n",
    "#plot_LSA(embeddings, list_labels) \n",
    "#plt.show()"
   ]
  },
  {
   "cell_type": "code",
   "execution_count": 43,
   "id": "13c0a382-8f49-4bc0-bb99-94a0cffcdecc",
   "metadata": {},
   "outputs": [],
   "source": [
    "clf_w2v = LogisticRegression(C=30.0, class_weight='balanced', solver='newton-cg',multi_class='multinomial', random_state=40) \n",
    "clf_w2v.fit(X_train_word2vec, y_train_word2vec) \n",
    "y_predicted_word2vec = clf_w2v.predict(X_test_word2vec)"
   ]
  },
  {
   "cell_type": "code",
   "execution_count": 44,
   "id": "51760213-81eb-4f56-8048-b4480c65e7da",
   "metadata": {},
   "outputs": [
    {
     "name": "stdout",
     "output_type": "stream",
     "text": [
      "accuracy = 0.777, precision = 0.776, recall = 0.777, f1 = 0.777\n"
     ]
    }
   ],
   "source": [
    "accuracy_word2vec, precision_word2vec, recall_word2vec, f1_word2vec = get_metrics(y_test_word2vec, y_predicted_word2vec) \n",
    "print(\"accuracy = %.3f, precision = %.3f, recall = %.3f, f1 = %.3f\" % (accuracy_word2vec, precision_word2vec,recall_word2vec, f1_word2vec))"
   ]
  },
  {
   "cell_type": "code",
   "execution_count": 45,
   "id": "2e182f73-e3ee-4e93-9210-774a1e1271d2",
   "metadata": {},
   "outputs": [
    {
     "data": {
      "image/png": "[encoded data removed]",
      "text/plain": [
       "<Figure size 648x648 with 2 Axes>"
      ]
     },
     "metadata": {
      "needs_background": "light"
     },
     "output_type": "display_data"
    },
    {
     "name": "stdout",
     "output_type": "stream",
     "text": [
      "Word2Vec confusion matrix\n",
      "[[980 242   2]\n",
      " [232 711   2]\n",
      " [  2   5   0]]\n",
      "TFIDF confusion matrix\n",
      "[[974 249   1]\n",
      " [261 684   0]\n",
      " [  3   4   0]]\n",
      "BoW confusion matrix\n",
      "[[970 251   3]\n",
      " [274 670   1]\n",
      " [  3   4   0]]\n"
     ]
    }
   ],
   "source": [
    "cm_w2v = confusion_matrix(y_test_word2vec, y_predicted_word2vec) \n",
    "fig = plt.figure(figsize=(9, 9)) \n",
    "plot = plot_confusion_matrix(cm_w2v, classes=['Irrelevant','Disaster','Unsure'], normalize=False, title='Confusion matrix')\n",
    "plt.show() \n",
    "print(\"Word2Vec confusion matrix\") \n",
    "print(cm_w2v) \n",
    "print(\"TFIDF confusion matrix\") \n",
    "print(cm2) \n",
    "print(\"BoW confusion matrix\") \n",
    "print(cm)"
   ]
  },
  {
   "cell_type": "code",
   "execution_count": 46,
   "id": "e186273d-1b61-498e-99d1-123511eea993",
   "metadata": {},
   "outputs": [
    {
     "name": "stdout",
     "output_type": "stream",
     "text": [
      "Tempo de execução 59.70861220359802\n"
     ]
    }
   ],
   "source": [
    "print('Tempo de execução {}'.format(time.time()- start))"
   ]
  }
 ],
 "metadata": {
  "kernelspec": {
   "display_name": "Python 3",
   "language": "python",
   "name": "python3"
  },
  "language_info": {
   "codemirror_mode": {
    "name": "ipython",
    "version": 3
   },
   "file_extension": ".py",
   "mimetype": "text/x-python",
   "name": "python",
   "nbconvert_exporter": "python",
   "pygments_lexer": "ipython3",
   "version": "3.8.10"
  },
  "widgets": {
   "application/vnd.jupyter.widget-state+json": {
    "state": {},
    "version_major": 2,
    "version_minor": 0
   }
  }
 },
 "nbformat": 4,
 "nbformat_minor": 5
}
