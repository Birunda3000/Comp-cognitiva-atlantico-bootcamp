{
 "cells": [
  {
   "cell_type": "code",
   "execution_count": null,
   "id": "978dbff6-c911-4f32-80be-74cfffddb7b8",
   "metadata": {},
   "outputs": [],
   "source": [
    "# Importação das bibliotecas\n",
    "import cv2\n",
    "# Leitura da imagem com a função imread()\n",
    "imagem = cv2.imread('entrada.jpg')\n",
    "print('Largura em pixels: ', end='')\n",
    "print(imagem.shape[1])\n",
    "#largura da imagem print('Altura em pixels: ', end='')\n",
    "print(imagem.shape[0])\n",
    "#altura da imagem\n",
    "print('Qtde de canais: ', end='')\n",
    "print(imagem.shape[2])\n",
    "# Mostra a imagem com a função imshow\n",
    "cv2.imshow(\"Nome da janela\", imagem)\n",
    "cv2.waitKey(0) #espera pressionar qualquer tecla\n",
    "# Salvar a imagem no disco com função imwrite()\n",
    "cv2.imwrite(\"saida.jpg\", imagem)"
   ]
  },
  {
   "cell_type": "code",
   "execution_count": null,
   "id": "7495be23-8b77-4858-8dd7-6384a726554e",
   "metadata": {},
   "outputs": [],
   "source": [
    "# Importação das bibliotecas  \n",
    "import cv2   \n",
    "# Leitura da imagem com a função imread()  \n",
    "imagem = cv2.imread('entrada.jpg') "
   ]
  },
  {
   "cell_type": "code",
   "execution_count": null,
   "id": "1f3ef8cf-6402-475c-be6a-ec17c41e0aaa",
   "metadata": {},
   "outputs": [],
   "source": [
    "import cv2 \n",
    "imagem = cv2.imread('ponte.jpg') \n",
    "(b, g, r) = imagem[0, 0] #veja que a ordem BGR e não RGB "
   ]
  },
  {
   "cell_type": "code",
   "execution_count": null,
   "id": "c0f5f0fe-4d23-4d99-8a0b-e4d84a7c0e87",
   "metadata": {},
   "outputs": [],
   "source": [
    "print('O pixel (0, 0) tem as seguintes cores:') \n",
    "print('Vermelho:', r, 'Verde:', g, 'Azul:', b)"
   ]
  },
  {
   "cell_type": "code",
   "execution_count": null,
   "id": "1a638ff8-2a7f-471c-a620-18b12ba06119",
   "metadata": {},
   "outputs": [],
   "source": [
    "import cv2 \n",
    "imagem = cv2.imread('ponte.jpg') \n",
    "for y in range(0, imagem.shape[0]):\n",
    "    for x in range(0, imagem.shape[1]):\n",
    "        imagem[y, x] = (255,0,0)\n",
    "cv2.imshow(\"Imagem modificada\", imagem) "
   ]
  },
  {
   "cell_type": "code",
   "execution_count": null,
   "id": "5e323a5b-7263-42a6-a006-8dad31fee78e",
   "metadata": {},
   "outputs": [],
   "source": [
    "import cv2 \n",
    "imagem = cv2.imread('ponte.jpg') \n",
    "for y in range(0, imagem.shape[0], 10): #percorre linhas\n",
    "    for x in range(0, imagem.shape[1], 10): #percorre colunas\n",
    "        imagem[y:y+5, x: x+5] = (0,255,255)\n",
    "cv2.imshow(\"Imagem modificada\", imagem) \n",
    "cv2.waitKey(0)"
   ]
  },
  {
   "cell_type": "code",
   "execution_count": null,
   "id": "e2ffc5e3-bf74-4085-8d29-fd77fba31cd2",
   "metadata": {},
   "outputs": [],
   "source": [
    "import cv2\n",
    "imagem = cv2.imread('ponte.jpg')\n",
    "recorte = imagem[100:200, 100:200]\n",
    "cv2.imshow(\"Recorte da imagem\", recorte)\n",
    "cv2.imwrite(\"recorte.jpg\", recorte) #salva no disco "
   ]
  },
  {
   "cell_type": "code",
   "execution_count": null,
   "id": "1b9ffbd7-fc12-4e63-be12-6420bd13017d",
   "metadata": {},
   "outputs": [],
   "source": [
    "import numpy as np\n",
    "import cv2\n",
    "img = cv2.imread('ponte.jpg')\n",
    "cv2.imshow(\"Original\", img)\n",
    "largura = img.shape[1]\n",
    "altura = img.shape[0]\n",
    "proporcao = float(altura/largura)\n",
    "largura_nova = 320 #em pixels\n",
    "altura_nova = int(largura_nova*proporcao)\n",
    "tamanho_novo = (largura_nova, altura_nova)\n",
    "img_redimensionada = cv2.resize(img,\n",
    "tamanho_novo, interpolation = cv2.INTER_AREA)\n",
    "cv2.imshow('Resultado', img_redimensionada)\n",
    "cv2.waitKey(0)"
   ]
  },
  {
   "cell_type": "code",
   "execution_count": null,
   "id": "1a29b07c-cd7e-487d-bd5d-9818943fb83e",
   "metadata": {},
   "outputs": [],
   "source": [
    "import cv2 img = cv2.imread('ponte.jpg') \n",
    "cv2.imshow(\"Original\", img) \n",
    "flip_horizontal = img[::-1,:]#comando equivalente abaixo \n",
    "#flip_horizontal = cv2.flip(img, 1)  \n",
    "cv2.imshow(\"Flip Horizontal\", flip_horizontal) \n",
    "flip_vertical = img[:,::-1] #comando equivalente abaixo \n",
    "#flip_vertical = cv2.flip(img, 0)  \n",
    "cv2.imshow(\"Flip Vertical\", flip_vertical) \n",
    "flip_hv = img[::-1,::-1] #comando equivalente abaixo  \n",
    "#flip_hv = cv2.flip(img, -1) \n",
    "cv2.imshow(\"Flip Horizontal e Vertical\", flip_hv) \n",
    "cv2.waitKey(0)"
   ]
  },
  {
   "cell_type": "code",
   "execution_count": null,
   "id": "ccd76c8e-a655-499e-94b6-c55dcec6bbba",
   "metadata": {},
   "outputs": [],
   "source": [
    "img = cv2.imread('ponte.jpg') \n",
    "(alt, lar) = img.shape[:2] #captura altura e largura \n",
    "centro = (lar // 2, alt // 2) #acha o centro  \n",
    "M = cv2.getRotationMatrix2D(centro, 30, 1.0)#30 graus \n",
    "img_rotacionada = cv2.warpAffine(img, M, (lar, alt))  \n",
    "cv2.imshow(\"Imagem rotacionada em 30 graus\", img_rotacionada) \n",
    "cv2.waitKey(0)"
   ]
  },
  {
   "cell_type": "code",
   "execution_count": null,
   "id": "989396d2-9e6b-4cb4-82b1-11e778ea4ec6",
   "metadata": {},
   "outputs": [],
   "source": [
    "img = cv2.imread('ponte.jpg')\n",
    "cv2.imshow(\"Original\", img)\n",
    "gray = cv2.cvtColor(img, cv2.COLOR_BGR2GRAY)\n",
    "cv2.imshow(\"Gray\", gray)\n",
    "hsv = cv2.cvtColor(img, cv2.COLOR_BGR2HSV)\n",
    "cv2.imshow(\"HSV\", hsv)\n",
    "lab = cv2.cvtColor(img, cv2.COLOR_BGR2LAB)\n",
    "cv2.imshow(\"L*a*b*\", lab)\n",
    "cv2.waitKey(0)"
   ]
  },
  {
   "cell_type": "code",
   "execution_count": null,
   "id": "22a44ebd-5990-4d90-98d5-5e5eb49795ef",
   "metadata": {},
   "outputs": [],
   "source": [
    "img = cv2.imread('ponte.jpg') \n",
    "(canalAzul, canalVerde, canalVermelho) = cv2.split(img)\n",
    "cv2.imshow(\"Vermelho\", canalVermelho) \n",
    "cv2.imshow(\"Verde\", canalVerde) \n",
    "cv2.imshow(\"Azul\", canalAzul) \n",
    "cv2.waitKey(0)"
   ]
  },
  {
   "cell_type": "code",
   "execution_count": null,
   "id": "d43d83d0-e76a-42ae-a4f4-4a2f682268ef",
   "metadata": {},
   "outputs": [],
   "source": [
    "resultado = cv2.merge([canalAzul, canalVerde, canalVermelho]) "
   ]
  },
  {
   "cell_type": "code",
   "execution_count": null,
   "id": "74f1ba82-3ee0-474f-a139-9704941cab22",
   "metadata": {},
   "outputs": [],
   "source": [
    "import numpy as np \n",
    "import cv2 \n",
    "img = cv2.imread('ponte.jpg')  \n",
    "(canalAzul, canalVerde, canalVermelho) = cv2.split(img)  \n",
    "zeros = np.zeros(img.shape[:2], dtype = \"uint8\")  \n",
    "cv2.imshow(\"Vermelho\", cv2.merge([zeros, zeros, canalVermelho]))  \n",
    "cv2.imshow(\"Verde\", cv2.merge([zeros, canalVerde, zeros])) \n",
    "cv2.imshow(\"Azul\", cv2.merge([canalAzul, zeros, zeros])) \n",
    "cv2.imshow(\"Original\", img) \n",
    "cv2.waitKey(0)"
   ]
  },
  {
   "cell_type": "code",
   "execution_count": null,
   "id": "8dd02795-f01e-4cd3-bea9-818fb2a9ded9",
   "metadata": {},
   "outputs": [],
   "source": [
    "from matplotlib import pyplot as plt \n",
    "import cv2  \n",
    "img = cv2.imread('ponte.jpg') \n",
    "img = cv2.cvtColor(img, cv2.COLOR_BGR2GRAY) #converte P&B \n",
    "cv2.imshow(\"Imagem P&B\", img) \n",
    "#Função calcHist para calcular o histograma da imagem \n",
    "h = cv2.calcHist([img], [0], None, [256], [0, 256]) \n",
    "plt.figure() \n",
    "plt.title(\"Histograma P&B\") \n",
    "plt.xlabel(\"Intensidade\") \n",
    "plt.ylabel(\"Qtde de Pixels\") \n",
    "plt.plot(h) \n",
    "plt.xlim([0, 256]) \n",
    "plt.show() \n",
    "cv2.waitKey(0) "
   ]
  },
  {
   "cell_type": "code",
   "execution_count": null,
   "id": "f29d7d29-ece9-49b6-8e2e-eaea84f5253b",
   "metadata": {},
   "outputs": [],
   "source": [
    "plt.hist(img.ravel(),256,[0,256]) plt.show()"
   ]
  },
  {
   "cell_type": "code",
   "execution_count": null,
   "id": "7fba14a6-d47d-442b-8803-acf0bf9d8ed9",
   "metadata": {},
   "outputs": [],
   "source": [
    "from matplotlib import pyplot as plt\n",
    "import numpy as np\n",
    "import cv2\n",
    "img = cv2.imread('ponte.jpg')\n",
    "cv2.imshow(\"Imagem Colorida\", img)\n",
    "#Separa os canais\n",
    "canais = cv2.split(img)\n",
    "cores = (\"b\", \"g\", \"r\")\n",
    "plt.figure()\n",
    "plt.title(\"'Histograma Colorido\")\n",
    "plt.xlabel(\"Intensidade\")\n",
    "plt.ylabel(\"Número de Pixels\")\n",
    "for (canal, cor) in zip(canais, cores):\n",
    "#Este loop executa 3 vezes, uma para cada canal\n",
    "hist = cv2.calcHist([canal], [0], None, [256], [0, 256])\n",
    "plt.plot(hist, cor = cor)\n",
    "plt.xlim([0, 256])\n",
    "plt.show()"
   ]
  },
  {
   "cell_type": "code",
   "execution_count": null,
   "id": "55044a47-e417-4215-946e-5b60804cdef8",
   "metadata": {},
   "outputs": [],
   "source": [
    "from matplotlib import pyplot as plt\n",
    "import numpy as np\n",
    "import cv2\n",
    "img = cv2.imread('ponte.jpg')\n",
    "img = cv2.cvtColor(img, cv2.COLOR_BGR2GRAY)\n",
    "h_eq = cv2.equalizeHist(img)\n",
    "plt.figure()\n",
    "plt.title(\"Histograma Equalizado\")\n",
    "plt.xlabel(\"Intensidade\")\n",
    "plt.ylabel(\"Qtde de Pixels\")\n",
    "plt.hist(h_eq.ravel(), 256, [0,256])\n",
    "plt.xlim([0, 256])\n",
    "plt.show()\n",
    "plt.figure()\n",
    "plt.title(\"Histograma Original\")\n",
    "plt.xlabel(\"Intensidade\")\n",
    "plt.ylabel(\"Qtde de Pixels\")\n",
    "plt.hist(img.ravel(), 256, [0,256])\n",
    "plt.xlim([0, 256])\n",
    "plt.show()\n",
    "cv2.waitKey(0)"
   ]
  },
  {
   "cell_type": "code",
   "execution_count": null,
   "id": "dae74206-2499-4be2-9017-e3a5fc6a5c78",
   "metadata": {},
   "outputs": [],
   "source": [
    "img = cv2.imread('ponte.jpg') \n",
    "img = img[::2,::2] # Diminui a imagem  \n",
    "suave = np.vstack([   np.hstack([img,cv2.blur(img, ( 3,  3))]),np.hstack([cv2.blur(img, (5,5)), cv2.blur(img, ( 7,  7))]),np.hstack([cv2.blur(img, (9,9)), cv2.blur(img, (11, 11))]),])  \n",
    "cv2.imshow(\"Imagens suavisadas (Blur)\", suave) \n",
    "cv2.waitKey(0)"
   ]
  },
  {
   "cell_type": "code",
   "execution_count": null,
   "id": "60117ccc-0f2a-429a-a8ae-376c783ca2ad",
   "metadata": {},
   "outputs": [],
   "source": [
    "import numpy as np\n",
    "import cv2\n",
    "img = cv2.imread('ponte.jpg')\n",
    "img = img[::2,::2] # Diminui a imagem\n",
    "suave = np.vstack([\n",
    "np.hstack([img,\n",
    "cv2.medianBlur(img,  3)]),\n",
    "np.hstack([cv2.medianBlur(img,  5),\n",
    "cv2.medianBlur(img,  7)]),\n",
    "np.hstack([cv2.medianBlur(img,  9),\n",
    "cv2.medianBlur(img, 11)]),\n",
    "])\n",
    "cv2.imshow(\"Imagem original e suavizadas pela mediana\", suave)\n",
    "cv2.waitKey(0)"
   ]
  },
  {
   "cell_type": "code",
   "execution_count": null,
   "id": "9c99b6e7-a21c-4338-b02c-eb7dc995de98",
   "metadata": {},
   "outputs": [],
   "source": [
    "img = cv2.imread('ponte.jpg')\n",
    "img = img[::2,::2] # Diminui a imagem\n",
    "suave = np.vstack([\n",
    "np.hstack([img,\n",
    "cv2.bilateralFilter(img,  3, 21, 21)]),\n",
    "np.hstack([cv2.bilateralFilter(img,  5, 35, 35),\n",
    "cv2.bilateralFilter(img,  7, 49, 49)]),\n",
    "np.hstack([cv2.bilateralFilter(img,  9, 63, 63),\n",
    "cv2.bilateralFilter(img, 11, 77, 77)])\n",
    "])"
   ]
  },
  {
   "cell_type": "code",
   "execution_count": null,
   "id": "0116e968-1ce5-48cd-8ab1-3d241628b767",
   "metadata": {},
   "outputs": [],
   "source": [
    "img = cv2.imread('ponte.jpg') \n",
    "img = cv2.cvtColor(img, cv2.COLOR_BGR2GRAY)  \n",
    "suave = cv2.GaussianBlur(img, (7, 7), 0) # aplica blur  \n",
    "(T, bin) = cv2.threshold(suave, 160, 255, cv2.THRESH_BINARY) \n",
    "(T, binI) = cv2.threshold(suave, 160, 255, cv2.THRESH_BINARY_INV) \n",
    "resultado = np.vstack([  np.hstack([suave, bin]),  np.hstack([binI, cv2.bitwise_and(img, img, mask = binI)])  ])   \n",
    "cv2.imshow(\"Binarização da imagem\", resultado) \n",
    "cv2.waitKey(0)"
   ]
  },
  {
   "cell_type": "code",
   "execution_count": null,
   "id": "b06bb6cf-6a15-449d-ae7a-82f2cd35fb4e",
   "metadata": {},
   "outputs": [],
   "source": [
    "img = cv2.imread('ponte.jpg') \n",
    "img = cv2.cvtColor(img, cv2.COLOR_BGR2GRAY) # converte  \n",
    "suave = cv2.GaussianBlur(img, (7, 7), 0) # aplica blur   \n",
    "bin1 = cv2.adaptiveThreshold(suave, 255,  cv2.ADAPTIVE_THRESH_MEAN_C, cv2.THRESH_BINARY_INV, 21, 5) \n",
    "bin2 = cv2.adaptiveThreshold(suave, 255,  cv2.ADAPTIVE_THRESH_GAUSSIAN_C, cv2.THRESH_BINARY_INV,          21, 5)  \n",
    "resultado = np.vstack([  np.hstack([img, suave]),  np.hstack([bin1, bin2])  ])   \n",
    "cv2.imshow(\"Binarização adaptativa da imagem\", resultado) \n",
    "cv2.waitKey(0) "
   ]
  },
  {
   "cell_type": "code",
   "execution_count": null,
   "id": "9e9bf507-b08a-43e7-a61b-768993a807db",
   "metadata": {},
   "outputs": [],
   "source": [
    "import mahotas \n",
    "import numpy as np \n",
    "import cv2  \n",
    "img = cv2.imread('ponte.jpg') \n",
    "img = cv2.cvtColor(img, cv2.COLOR_BGR2GRAY) # converte  \n",
    "suave = cv2.GaussianBlur(img, (7, 7), 0) # aplica blur  \n",
    "T = mahotas.thresholding.otsu(suave) \n",
    "temp = img.copy() \n",
    "temp[temp > T] = 255 \n",
    "temp[temp < 255] = 0 \n",
    "temp = cv2.bitwise_not(temp) \n",
    "T = mahotas.thresholding.rc(suave) \n",
    "temp2 = img.copy() \n",
    "temp2[temp2 > T] = 255 \n",
    "temp2[temp2 < 255] = 0 \n",
    "temp2 = cv2.bitwise_not(temp2) \n",
    "resultado = np.vstack([  np.hstack([img, suave]),  np.hstack([temp, temp2])  ])  \n",
    "cv2.imshow(\"Binarização com método Otsu e Riddler-Calvard\", resultado) \n",
    "cv2.waitKey(0)"
   ]
  },
  {
   "cell_type": "code",
   "execution_count": null,
   "id": "61cbc904-91f1-4703-839f-f8312cb7ce84",
   "metadata": {},
   "outputs": [],
   "source": [
    "import numpy as np \n",
    "import cv2  \n",
    "img = cv2.imread('ponte.jpg') \n",
    "img = cv2.cvtColor(img, cv2.COLOR_BGR2GRAY)  \n",
    "sobelX = cv2.Sobel(img, cv2.CV_64F, 1, 0) \n",
    "sobelY = cv2.Sobel(img, cv2.CV_64F, 0, 1) \n",
    "sobelX = np.uint8(np.absolute(sobelX)) \n",
    "sobelY = np.uint8(np.absolute(sobelY)) \n",
    "sobel = cv2.bitwise_or(sobelX, sobelY)  \n",
    "resultado = np.vstack([  np.hstack([img,    sobelX]),  np.hstack([sobelY, sobel])  ])   \n",
    "cv2.imshow(\"Sobel\", resultado) \n",
    "cv2.waitKey(0)"
   ]
  },
  {
   "cell_type": "code",
   "execution_count": null,
   "id": "0322508a-0c04-47d2-9cf4-15bd5ec4d2df",
   "metadata": {},
   "outputs": [],
   "source": [
    "import numpy as np \n",
    "import cv2 \n",
    "img = cv2.imread('ponte.jpg') \n",
    "img = cv2.cvtColor(img, cv2.COLOR_BGR2GRAY) \n",
    "lap = cv2.Laplacian(img, cv2.CV_64F) \n",
    "lap = np.uint8(np.absolute(lap)) \n",
    "resultado = np.vstack([img, lap])  \n",
    "cv2.imshow(\"Filtro Laplaciano\", resultado) \n",
    "cv2.waitKey(0)"
   ]
  },
  {
   "cell_type": "code",
   "execution_count": null,
   "id": "135e8767-c1b2-41f5-8dcd-e614ccdcad52",
   "metadata": {},
   "outputs": [],
   "source": [
    "import numpy as np \n",
    "import cv2 \n",
    "img = cv2.imread('ponte.jpg') \n",
    "img = cv2.cvtColor(img, cv2.COLOR_BGR2GRAY) \n",
    "suave = cv2.GaussianBlur(img, (7, 7), 0)  \n",
    "canny1 = cv2.Canny(suave, 20, 120) \n",
    "canny2 = cv2.Canny(suave, 70, 200) \n",
    "resultado = np.vstack([  np.hstack([img,    suave ]),  np.hstack([canny1, canny2])  ])  \n",
    "cv2.imshow(\"Detector de Bordas Canny\", resultado) \n",
    "cv2.waitKey(0)"
   ]
  },
  {
   "cell_type": "code",
   "execution_count": null,
   "id": "3869e544-629d-4e45-bdbc-cffdf795d33e",
   "metadata": {},
   "outputs": [],
   "source": [
    "import numpy as np \n",
    "import cv2 \n",
    "import mahotas  \n",
    "#Função para facilitar a escrita nas imagem \n",
    "def escreve(img, texto, cor=(255,0,0)):\n",
    "    fonte = cv2.FONT_HERSHEY_SIMPLEX \n",
    "    cv2.putText(img, texto, (10,20), fonte, 0.5, cor, 0,      cv2.LINE_AA)\n",
    "imgColorida = cv2.imread('dados.jpg') #Carregamento da imagem  \n",
    "#Se necessário o redimensioamento da imagem pode vir aqui.\n",
    "#Passo 1: Conversão para tons de cinza \n",
    "img = cv2.cvtColor(imgColorida, cv2.COLOR_BGR2GRAY)  \n",
    "#Passo 2: Blur/Suavização da imagem \n",
    "suave = cv2.blur(img, (7, 7))  \n",
    "#Passo 3: Binarização resultando em pixels brancos e pretos \n",
    "T = mahotas.thresholding.otsu(suave) \n",
    "bin = suave.copy() bin[bin > T] = 255 \n",
    "bin[bin < 255] = 0 \n",
    "bin = cv2.bitwise_not(bin)  \n",
    "#Passo 4: Detecção de bordas com Canny \n",
    "bordas = cv2.Canny(bin, 70, 150)  \n",
    "#Passo 5: Identificação e contagem dos contornos da imagem \n",
    "#cv2.RETR_EXTERNAL = conta apenas os contornos externos \n",
    "(lx, objetos, lx) = cv2.findContours(bordas.copy(),cv2.RETR_EXTERNAL, cv2.CHAIN_APPROX_SIMPLE) #A variável lx (lixo) recebe dados que não são utilizados\n",
    "escreve(img, \"Imagem em tons de cinza\", 0) \n",
    "escreve(suave, \"Suavizacao com Blur\", 0) \n",
    "escreve(bin, \"Binarizacao com Metodo Otsu\", 255) \n",
    "escreve(bordas, \"Detector de bordas Canny\", 255)\n",
    "temp = np.vstack([  np.hstack([img, suave]),   np.hstack([bin, bordas])   ])   \n",
    "cv2.imshow(\"Quantidade de objetos: \"+str(len(objetos)), temp) \n",
    "cv2.waitKey(0) \n",
    "imgC2 = imgColorida.copy() \n",
    "cv2.imshow(\"Imagem Original\", imgColorida)\n",
    "cv2.drawContours(imgC2, objetos, -1, (255, 0, 0), 2) \n",
    "escreve(imgC2, str(len(objetos))+\" objetos encontrados!\") \n",
    "cv2.imshow(\"Resultado\", imgC2) \n",
    "cv2.waitKey(0)"
   ]
  }
 ],
 "metadata": {
  "kernelspec": {
   "display_name": "Python 3",
   "language": "python",
   "name": "python3"
  },
  "language_info": {
   "codemirror_mode": {
    "name": "ipython",
    "version": 3
   },
   "file_extension": ".py",
   "mimetype": "text/x-python",
   "name": "python",
   "nbconvert_exporter": "python",
   "pygments_lexer": "ipython3",
   "version": "3.8.10"
  },
  "widgets": {
   "application/vnd.jupyter.widget-state+json": {
    "state": {},
    "version_major": 2,
    "version_minor": 0
   }
  }
 },
 "nbformat": 4,
 "nbformat_minor": 5
}
