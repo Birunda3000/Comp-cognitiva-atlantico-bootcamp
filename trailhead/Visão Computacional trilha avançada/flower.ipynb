{
 "cells": [
  {
   "cell_type": "code",
   "execution_count": 6,
   "metadata": {},
   "outputs": [],
   "source": [
    "import warnings\n",
    "warnings.filterwarnings('always')\n",
    "warnings.filterwarnings('ignore')\n",
    "\n",
    "import numpy as np\n",
    "import pandas as pd\n",
    "import matplotlib.pyplot as plt\n",
    "%matplotlib inline  \n",
    "import seaborn as sns\n",
    "\n",
    "from sklearn.model_selection import train_test_split\n",
    "\n",
    "import keras\n",
    "from keras.preprocessing.image import ImageDataGenerator\n",
    "from keras.models import Model\n",
    "from keras.optimizers import Nadam, Adam\n",
    "from keras.utils import to_categorical\n",
    "from keras.layers import Dropout, Flatten, Input, Dense\n",
    "from keras.layers import Conv2D, MaxPooling2D, BatchNormalization\n",
    "\n",
    "import random\n",
    "import tensorflow as tf\n",
    "import cv2 as cv\n",
    "import os \n",
    "import glob"
   ]
  },
  {
   "cell_type": "code",
   "execution_count": 7,
   "metadata": {},
   "outputs": [],
   "source": [
    "daisy_dir = glob.glob(os.path.join('daisy/', '*'))\n",
    "dandelion_dir = glob.glob(os.path.join('dandelion/', '*'))\n",
    "rose_dir = glob.glob(os.path.join('rose/', '*'))\n",
    "sunflower_dir = glob.glob(os.path.join('sunflower/', '*'))\n",
    "tulip_dir = glob.glob(os.path.join('tulip/', '*'))"
   ]
  },
  {
   "cell_type": "code",
   "execution_count": null,
   "metadata": {},
   "outputs": [],
   "source": []
  },
  {
   "cell_type": "code",
   "execution_count": 8,
   "metadata": {},
   "outputs": [],
   "source": [
    "X_path = daisy_dir + dandelion_dir + rose_dir + sunflower_dir + tulip_dir\n",
    "\n",
    "X = []\n",
    "\n",
    "for f in X_path:\n",
    "    X.append(np.array(cv.resize(cv.imread(f), (224,224), interpolation = cv.INTER_AREA))) \n",
    "    \n",
    "X = np.array(X)\n",
    "\n",
    "X = X / 255"
   ]
  },
  {
   "cell_type": "code",
   "execution_count": 9,
   "metadata": {},
   "outputs": [],
   "source": [
    "l_daisy = np.zeros(len(daisy_dir))\n",
    "l_daisy_string = ['daisy' for i in range(len(daisy_dir))]\n",
    "l_dandelion = np.ones(len(dandelion_dir))\n",
    "l_dandelion_string = ['dandelion' for i in range(len(dandelion_dir))]\n",
    "l_rose = 2*np.ones(len(rose_dir))\n",
    "l_rose_string = ['rose' for i in range(len(rose_dir))]\n",
    "l_sunflower = 3*np.ones(len(sunflower_dir))\n",
    "l_sunflower_string = ['sunflower' for i in range(len(sunflower_dir))]\n",
    "l_tulip = 4*np.ones(len(tulip_dir))\n",
    "l_tulip_string = ['tulip' for i in range(len(tulip_dir))]\n",
    "\n",
    "\n",
    "y_string = np.concatenate((l_daisy_string, l_dandelion_string, l_rose_string, l_sunflower_string, l_tulip_string))\n",
    "y = np.concatenate((l_daisy, l_dandelion, l_rose, l_sunflower, l_tulip))\n",
    "y = to_categorical(y, 5)"
   ]
  },
  {
   "cell_type": "code",
   "execution_count": 10,
   "metadata": {},
   "outputs": [
    {
     "ename": "IndexError",
     "evalue": "index 0 is out of bounds for axis 0 with size 0",
     "output_type": "error",
     "traceback": [
      "\u001b[1;31m---------------------------------------------------------------------------\u001b[0m",
      "\u001b[1;31mIndexError\u001b[0m                                Traceback (most recent call last)",
      "\u001b[1;32mc:\\Users\\esdn6\\Documents\\GitHub\\Comp-cognitiva-atlatico-bootcamp\\trailhead\\Visão Computacional trilha avançada\\flower.ipynb Cell 5'\u001b[0m in \u001b[0;36m<cell line: 3>\u001b[1;34m()\u001b[0m\n\u001b[0;32m      <a href='vscode-notebook-cell:/c%3A/Users/esdn6/Documents/GitHub/Comp-cognitiva-atlatico-bootcamp/trailhead/Vis%C3%A3o%20Computacional%20trilha%20avan%C3%A7ada/flower.ipynb#ch0000010?line=3'>4</a>\u001b[0m     \u001b[39mfor\u001b[39;00m j \u001b[39min\u001b[39;00m \u001b[39mrange\u001b[39m (\u001b[39m3\u001b[39m):\n\u001b[0;32m      <a href='vscode-notebook-cell:/c%3A/Users/esdn6/Documents/GitHub/Comp-cognitiva-atlatico-bootcamp/trailhead/Vis%C3%A3o%20Computacional%20trilha%20avan%C3%A7ada/flower.ipynb#ch0000010?line=4'>5</a>\u001b[0m         r \u001b[39m=\u001b[39m random\u001b[39m.\u001b[39mrandint(\u001b[39m0\u001b[39m,\u001b[39mlen\u001b[39m(y_string))\n\u001b[1;32m----> <a href='vscode-notebook-cell:/c%3A/Users/esdn6/Documents/GitHub/Comp-cognitiva-atlatico-bootcamp/trailhead/Vis%C3%A3o%20Computacional%20trilha%20avan%C3%A7ada/flower.ipynb#ch0000010?line=5'>6</a>\u001b[0m         ax[i,j]\u001b[39m.\u001b[39mimshow(X[r][:,:,::\u001b[39m-\u001b[39m\u001b[39m1\u001b[39m])\n\u001b[0;32m      <a href='vscode-notebook-cell:/c%3A/Users/esdn6/Documents/GitHub/Comp-cognitiva-atlatico-bootcamp/trailhead/Vis%C3%A3o%20Computacional%20trilha%20avan%C3%A7ada/flower.ipynb#ch0000010?line=6'>7</a>\u001b[0m         ax[i,j]\u001b[39m.\u001b[39mset_title(\u001b[39m'\u001b[39m\u001b[39mFlower: \u001b[39m\u001b[39m'\u001b[39m \u001b[39m+\u001b[39m y_string[r])\n\u001b[0;32m      <a href='vscode-notebook-cell:/c%3A/Users/esdn6/Documents/GitHub/Comp-cognitiva-atlatico-bootcamp/trailhead/Vis%C3%A3o%20Computacional%20trilha%20avan%C3%A7ada/flower.ipynb#ch0000010?line=8'>9</a>\u001b[0m plt\u001b[39m.\u001b[39mtight_layout()\n",
      "\u001b[1;31mIndexError\u001b[0m: index 0 is out of bounds for axis 0 with size 0"
     ]
    },
    {
     "data": {
      "image/png": "[encoded data removed]",
      "text/plain": [
       "<Figure size 1080x1080 with 6 Axes>"
      ]
     },
     "metadata": {
      "needs_background": "light"
     },
     "output_type": "display_data"
    }
   ],
   "source": [
    "fig,ax=plt.subplots(2,3)\n",
    "fig.set_size_inches(15,15)\n",
    "for i in range(2):\n",
    "    for j in range (3):\n",
    "        r = random.randint(0,len(y_string))\n",
    "        ax[i,j].imshow(X[r][:,:,::-1])\n",
    "        ax[i,j].set_title('Flower: ' + y_string[r])\n",
    "        \n",
    "plt.tight_layout()"
   ]
  },
  {
   "cell_type": "code",
   "execution_count": null,
   "metadata": {},
   "outputs": [],
   "source": [
    "X_train, X_val, y_train, y_val = train_test_split(X, y, test_size = 0.2, random_state=42)\n",
    "X = []"
   ]
  },
  {
   "cell_type": "code",
   "execution_count": null,
   "metadata": {},
   "outputs": [],
   "source": [
    "# Data Augmentation\n",
    "datagen = ImageDataGenerator(\n",
    "        zoom_range = 0.1, # Aleatory zoom\n",
    "        rotation_range= 15, \n",
    "        width_shift_range=0.1,  # horizontal shift\n",
    "        height_shift_range=0.1,  # vertical shift\n",
    "        horizontal_flip=True,  \n",
    "        vertical_flip=True) \n",
    "\n",
    "datagen.fit(X_train)"
   ]
  },
  {
   "cell_type": "code",
   "execution_count": null,
   "metadata": {},
   "outputs": [],
   "source": [
    "inp = Input((224,224,3))\n",
    "\n",
    "conv1 = Conv2D(64, (5,5), padding='valid', activation= 'relu')(inp)\n",
    "conv1 = MaxPooling2D(pool_size=(2,2))(conv1)\n",
    "conv1 = BatchNormalization()(conv1)\n",
    "\n",
    "conv2 = Conv2D(96, (4,4), padding='valid', activation= 'relu')(conv1)\n",
    "conv2 = MaxPooling2D(pool_size=(2,2))(conv2)\n",
    "conv2 = BatchNormalization()(conv2)\n",
    "\n",
    "conv3 = Conv2D(128, (3,3), padding='valid', activation= 'relu')(conv2)\n",
    "conv3 = MaxPooling2D(pool_size=(2,2))(conv3)\n",
    "conv3 = BatchNormalization()(conv3)\n",
    "\n",
    "conv4 = Conv2D(256, (3,3), padding='valid', activation= 'relu')(conv3)\n",
    "conv4 = MaxPooling2D(pool_size=(2,2))(conv4)\n",
    "conv4 = BatchNormalization()(conv4)\n",
    "\n",
    "flat = Flatten()(conv4)\n",
    "\n",
    "dense1 = Dense(512, activation= 'relu')(flat)\n",
    "dense1 = Dropout(0.5)(dense1)\n",
    "\n",
    "dense2 = Dense(64, activation= 'relu')(dense1)\n",
    "dense2 = Dropout(0.1)(dense2)\n",
    "\n",
    "out = Dense(5, activation = 'softmax')(dense2)\n",
    "\n",
    "model = Model(inp, out)\n",
    "\n",
    "model.summary()"
   ]
  },
  {
   "cell_type": "code",
   "execution_count": null,
   "metadata": {},
   "outputs": [],
   "source": [
    "# Other things to the neural net\n",
    "model.load_weights('my-CNN.32-0.03-0.99-1.33-0.72.hdf5')\n",
    "\n",
    "nadam = Nadam(lr = 0.0001)\n",
    "\n",
    "filepath = 'my-CNN.{epoch:02d}-{loss:.2f}-{acc:.2f}-{val_loss:.2f}-{val_acc:.2f}.hdf5'\n",
    "\n",
    "lr_red = keras.callbacks.ReduceLROnPlateau(monitor='acc', patience=3, verbose=1, factor=0.5, min_lr=0.000001)\n",
    "\n",
    "chkpoint = keras.callbacks.ModelCheckpoint(filepath, monitor='val_acc', verbose=0, save_best_only=True, save_weights_only=False, mode='auto', period=1)\n",
    "\n",
    "model.compile(optimizer = nadam , loss = \"categorical_crossentropy\", metrics=[\"accuracy\"])"
   ]
  },
  {
   "cell_type": "code",
   "execution_count": null,
   "metadata": {},
   "outputs": [],
   "source": [
    "history = model.fit(X_train, y_train, batch_size = 32, epochs = 50, initial_epoch = 0, validation_data = (X_val, y_val), callbacks=[lr_red, chkpoint])"
   ]
  },
  {
   "cell_type": "code",
   "execution_count": null,
   "metadata": {},
   "outputs": [],
   "source": [
    "plt.plot(history.history['loss'])\n",
    "plt.plot(history.history['val_loss'])\n",
    "plt.title('Model Loss')\n",
    "plt.ylabel('Loss')\n",
    "plt.xlabel('Epochs')\n",
    "plt.legend(['train', 'test'])\n",
    "plt.show()"
   ]
  },
  {
   "cell_type": "code",
   "execution_count": null,
   "metadata": {},
   "outputs": [],
   "source": [
    "plt.plot(history.history['acc'])\n",
    "plt.plot(history.history['val_acc'])\n",
    "plt.title('Model Accuracy')\n",
    "plt.ylabel('Accuracy')\n",
    "plt.xlabel('Epochs')\n",
    "plt.legend(['train', 'test'])\n",
    "plt.show()"
   ]
  },
  {
   "cell_type": "code",
   "execution_count": null,
   "metadata": {},
   "outputs": [],
   "source": [
    "vgg = keras.applications.VGG16(input_shape=(224,224,3), include_top = False, weights= 'imagenet')\n",
    "\n",
    "x = vgg.output\n",
    "x = Flatten()(x)\n",
    "x = Dense(3078,activation='relu')(x) \n",
    "x = Dropout(0.5)(x)\n",
    "x = Dense(256,activation='relu')(x) \n",
    "x = Dropout(0.2)(x)\n",
    "out = Dense(5,activation='softmax')(x) \n",
    "\n",
    "tf_model=Model(inputs=vgg.input,outputs=out)"
   ]
  },
  {
   "cell_type": "code",
   "execution_count": null,
   "metadata": {},
   "outputs": [],
   "source": [
    "for i,layer in enumerate(tf_model.layers):\n",
    "    print(i,layer.name)"
   ]
  },
  {
   "cell_type": "code",
   "execution_count": null,
   "metadata": {},
   "outputs": [],
   "source": [
    "# Bloquando o treinamento das camadas convolucionais\n",
    "for layer in tf_model.layers[:20]:\n",
    "    layer.trainable=False"
   ]
  },
  {
   "cell_type": "code",
   "execution_count": null,
   "metadata": {},
   "outputs": [],
   "source": [
    "tf_model.summary()"
   ]
  },
  {
   "cell_type": "code",
   "execution_count": null,
   "metadata": {},
   "outputs": [],
   "source": [
    "tf_model.load_weights('TF-CNN.29-0.08-0.98-1.03-0.85.hdf5')\n",
    "filepath = 'TF-CNN.{epoch:02d}-{loss:.2f}-{acc:.2f}-{val_loss:.2f}-{val_acc:.2f}.hdf5'\n",
    "lr_red = keras.callbacks.ReduceLROnPlateau(monitor='acc', patience=3, verbose=1, factor=0.5, min_lr=0.000001)\n",
    "chkpoint = keras.callbacks.ModelCheckpoint(filepath, monitor='val_acc', verbose=0, save_best_only=True, save_weights_only=False, mode='auto', period=1)\n",
    "tf_model.compile(optimizer = Nadam(0.0001) , loss = 'categorical_crossentropy', metrics=[\"accuracy\"])"
   ]
  },
  {
   "cell_type": "code",
   "execution_count": null,
   "metadata": {},
   "outputs": [],
   "source": [
    "history = tf_model.fit(X_train, y_train, batch_size = 1, epochs = 30, initial_epoch = 0, \n",
    "                    validation_data = (X_val, y_val), callbacks=[lr_red, chkpoint])"
   ]
  },
  {
   "cell_type": "code",
   "execution_count": null,
   "metadata": {},
   "outputs": [],
   "source": [
    "plt.plot(history.history['loss'])\n",
    "plt.plot(history.history['val_loss'])\n",
    "plt.title('Model Loss')\n",
    "plt.ylabel('Loss')\n",
    "plt.xlabel('Epochs')\n",
    "plt.legend(['train', 'test'])\n",
    "plt.show()"
   ]
  },
  {
   "cell_type": "code",
   "execution_count": null,
   "metadata": {},
   "outputs": [],
   "source": [
    "\n",
    "plt.plot(history.history['acc'])\n",
    "plt.plot(history.history['val_acc'])\n",
    "plt.title('Model Accuracy')\n",
    "plt.ylabel('Accuracy')\n",
    "plt.xlabel('Epochs')\n",
    "plt.legend(['train', 'test'])\n",
    "plt.show()"
   ]
  },
  {
   "cell_type": "code",
   "execution_count": null,
   "metadata": {},
   "outputs": [],
   "source": [
    "\n",
    "pred = tf_model.predict(X_val)\n",
    "pred = np.argmax(pred, axis = 1)\n",
    "pred = pd.DataFrame(pred).replace({0:'daisy',1:'dandelion',2:'rose',3:'sunflower',4:'tulip'})\n",
    "\n",
    "y_val_string = np.argmax(y_val, axis = 1)\n",
    "y_val_string = pd.DataFrame(y_val_string).replace({0:'daisy',1:'dandelion',2:'rose',3:'sunflower',4:'tulip'})"
   ]
  },
  {
   "cell_type": "code",
   "execution_count": null,
   "metadata": {},
   "outputs": [],
   "source": [
    "mis_class = []\n",
    "for i in range(len(y_val_string)):\n",
    "    if(not y_val_string[0][i] == pred[0][i]):\n",
    "        mis_class.append(i)\n",
    "    if(len(mis_class)==8):\n",
    "        break"
   ]
  },
  {
   "cell_type": "code",
   "execution_count": null,
   "metadata": {},
   "outputs": [],
   "source": [
    "count = 0\n",
    "fig,ax = plt.subplots(3,2)\n",
    "fig.set_size_inches(15,15)\n",
    "for i in range (3):\n",
    "    for j in range (2):\n",
    "        ax[i,j].imshow(X_val[mis_class[count]][:,:,::-1])\n",
    "        ax[i,j].set_title(\"Predicted Flower : \"+str(pred[0][mis_class[count]])+\"\\n\"+\"Actual Flower : \" + str(y_val_string[0][mis_class[count]]))\n",
    "        plt.tight_layout()\n",
    "        count+=1"
   ]
  },
  {
   "cell_type": "code",
   "execution_count": null,
   "metadata": {},
   "outputs": [],
   "source": []
  },
  {
   "cell_type": "code",
   "execution_count": null,
   "metadata": {},
   "outputs": [],
   "source": []
  },
  {
   "cell_type": "code",
   "execution_count": null,
   "metadata": {},
   "outputs": [],
   "source": []
  },
  {
   "cell_type": "code",
   "execution_count": null,
   "metadata": {},
   "outputs": [],
   "source": []
  }
 ],
 "metadata": {
  "kernelspec": {
   "display_name": "Python 3.10.4 ('IA-env')",
   "language": "python",
   "name": "python3"
  },
  "language_info": {
   "codemirror_mode": {
    "name": "ipython",
    "version": 3
   },
   "file_extension": ".py",
   "mimetype": "text/x-python",
   "name": "python",
   "nbconvert_exporter": "python",
   "pygments_lexer": "ipython3",
   "version": "3.10.4"
  },
  "orig_nbformat": 4,
  "vscode": {
   "interpreter": {
    "hash": "039eedbdc3eafb3ff56e892b04b49d9f6f15fe71eac5c31af6e138083d479011"
   }
  }
 },
 "nbformat": 4,
 "nbformat_minor": 2
}
