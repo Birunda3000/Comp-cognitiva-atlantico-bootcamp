{
 "cells": [
  {
   "cell_type": "code",
   "execution_count": 1,
   "id": "9c049f1d-650d-405c-bdd3-3fa65f93dea5",
   "metadata": {},
   "outputs": [
    {
     "name": "stderr",
     "output_type": "stream",
     "text": [
      "2022-05-06 23:52:18.711666: W tensorflow/stream_executor/platform/default/dso_loader.cc:64] Could not load dynamic library 'libcudart.so.11.0'; dlerror: libcudart.so.11.0: cannot open shared object file: No such file or directory\n",
      "2022-05-06 23:52:18.711702: I tensorflow/stream_executor/cuda/cudart_stub.cc:29] Ignore above cudart dlerror if you do not have a GPU set up on your machine.\n"
     ]
    }
   ],
   "source": [
    "import os\n",
    "import pathlib\n",
    "from pathlib import Path\n",
    "import re\n",
    "\n",
    "import stanza\n",
    "\n",
    "def txt_check (string):\n",
    "    if '.txt' in string:\n",
    "        return True\n",
    "    else:\n",
    "        return False"
   ]
  },
  {
   "cell_type": "code",
   "execution_count": 2,
   "id": "1ce896c9-75ff-4ba2-85f9-39b99b64152c",
   "metadata": {},
   "outputs": [],
   "source": [
    "def lemmatize(string):\n",
    "\n",
    "    return string"
   ]
  },
  {
   "cell_type": "code",
   "execution_count": 3,
   "id": "ab4510cf-f58c-497b-be6d-4e4b70d82331",
   "metadata": {},
   "outputs": [
    {
     "data": {
      "text/plain": [
       "['cleaned-texto1-pdf.txt', 'cleaned-texto2-pdf.txt', 'cleaned-texto3-pdf.txt']"
      ]
     },
     "execution_count": 3,
     "metadata": {},
     "output_type": "execute_result"
    }
   ],
   "source": [
    "DATADIR = \"cleaned-no-lem\"\n",
    "#DATADIR = str(input(\"Caminho dos documentos\"))\n",
    "DATADIR = pathlib.Path(DATADIR)\n",
    "\n",
    "OUTDIR = \"lem\"\n",
    "OUTDIR = pathlib.Path(OUTDIR)\n",
    "\n",
    "texts = os.listdir(DATADIR)\n",
    "texts.sort()\n",
    "\n",
    "filtered_object = filter(txt_check, texts)\n",
    "texts = list(filtered_object)\n",
    "texts"
   ]
  },
  {
   "cell_type": "code",
   "execution_count": 4,
   "id": "fa8bff71-4afa-4e60-9648-ece61ca357f9",
   "metadata": {},
   "outputs": [],
   "source": [
    "for text in texts:\n",
    "    \n",
    "    path = os.path.join(DATADIR, text)\n",
    "    \n",
    "    temp =  Path(path).read_text().replace('\\n', ' ')\n",
    "    \n",
    "    temp = lemmatize(temp)\n",
    "    \n",
    "    #print(temp)\n",
    "    \n",
    "    with open('lem/' + 'lem-' + text, \"w\") as text_file:\n",
    "        text_file.write(temp)"
   ]
  }
 ],
 "metadata": {
  "kernelspec": {
   "display_name": "Python 3",
   "language": "python",
   "name": "python3"
  },
  "language_info": {
   "codemirror_mode": {
    "name": "ipython",
    "version": 3
   },
   "file_extension": ".py",
   "mimetype": "text/x-python",
   "name": "python",
   "nbconvert_exporter": "python",
   "pygments_lexer": "ipython3",
   "version": "3.8.10"
  },
  "widgets": {
   "application/vnd.jupyter.widget-state+json": {
    "state": {},
    "version_major": 2,
    "version_minor": 0
   }
  }
 },
 "nbformat": 4,
 "nbformat_minor": 5
}
