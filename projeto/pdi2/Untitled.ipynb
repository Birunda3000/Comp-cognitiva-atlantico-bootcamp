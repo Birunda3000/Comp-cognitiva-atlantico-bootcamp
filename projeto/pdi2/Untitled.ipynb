{
 "cells": [
  {
   "cell_type": "code",
   "execution_count": 1,
   "id": "811e0de0-cd11-4d35-9cd5-2bcc01a164a7",
   "metadata": {
    "execution": {
     "iopub.execute_input": "2022-07-22T11:34:10.323659Z",
     "iopub.status.busy": "2022-07-22T11:34:10.322808Z",
     "iopub.status.idle": "2022-07-22T11:34:11.169296Z",
     "shell.execute_reply": "2022-07-22T11:34:11.168659Z",
     "shell.execute_reply.started": "2022-07-22T11:34:10.323528Z"
    }
   },
   "outputs": [],
   "source": [
    "import numpy as np\n",
    "import matplotlib.pyplot as plt\n",
    "import os\n",
    "import cv2\n",
    "from tqdm import tqdm\n",
    "import pickle\n",
    "import os\n",
    "import pathlib\n",
    "\n",
    "import cv2\n",
    "from cvzone.SelfiSegmentationModule import SelfiSegmentation\n",
    "import os\n",
    "import cvzone\n",
    "\n",
    "\n",
    "\n",
    "from PIL import Image"
   ]
  },
  {
   "cell_type": "code",
   "execution_count": 2,
   "id": "8ae6d6f4-539a-4f86-9c0b-41c040a7b876",
   "metadata": {
    "execution": {
     "iopub.execute_input": "2022-07-22T11:34:11.170313Z",
     "iopub.status.busy": "2022-07-22T11:34:11.170147Z",
     "iopub.status.idle": "2022-07-22T11:34:11.177173Z",
     "shell.execute_reply": "2022-07-22T11:34:11.176627Z",
     "shell.execute_reply.started": "2022-07-22T11:34:11.170293Z"
    }
   },
   "outputs": [],
   "source": [
    "def detect_faces(img):\n",
    "    \n",
    "    face_cascade = cv2.CascadeClassifier(cv2.data.haarcascades + 'haarcascade_frontalface_default.xml')\n",
    "    faces_detected = face_cascade.detectMultiScale(img, scaleFactor=1.1, minNeighbors=5)\n",
    "\n",
    "    if len(faces_detected) > 0:\n",
    "        (x, y, w, h) = faces_detected[0]\n",
    "        #print(len(faces_detected))\n",
    "\n",
    "        #img = cv2.rectangle(img, (x, y), (x+w, y+h), (0, 255, 0), 1)\n",
    "\n",
    "        p=3 #padding, margem\n",
    "        img = img[y-p+1:y+h+p, x-p+1:x+w+p]\n",
    "\n",
    "        #img_rgb = cv2.cvtColor(img, cv2.COLOR_BGR2RGB)\n",
    "\n",
    "        #plt.imshow(img_rgb, cmap='gray')\n",
    "        #plt.show()\n",
    "        return img, True\n",
    "    else:\n",
    "        #print(\"Nenhuma face detectada\")\n",
    "        return img, False\n",
    "    #return img\n",
    "\n",
    "def backgorund_remover(img):\n",
    "\n",
    "    segmentor = SelfiSegmentation()\n",
    "    imgOut = segmentor.removeBG(img, (255, 255, 255), threshold=0.83)\n",
    "    return imgOut"
   ]
  },
  {
   "cell_type": "code",
   "execution_count": 3,
   "id": "a1a660b2-2b6b-4359-9656-28724f63dd0e",
   "metadata": {
    "execution": {
     "iopub.execute_input": "2022-07-22T11:34:11.179063Z",
     "iopub.status.busy": "2022-07-22T11:34:11.178788Z",
     "iopub.status.idle": "2022-07-22T11:34:11.295076Z",
     "shell.execute_reply": "2022-07-22T11:34:11.293848Z",
     "shell.execute_reply.started": "2022-07-22T11:34:11.179044Z"
    }
   },
   "outputs": [],
   "source": [
    "#DATADIR = \"../bases/dados/imagens/mnist/train\"\n",
    "DATADIR = \"../../../_DATA_/image/pickle/faces-treino-300x300-pickle.pickle\"\n",
    "\n",
    "DATADIR = pathlib.Path(DATADIR)\n",
    "\n",
    "#IMG_SIZE = 28#'original'#Tamanho mxm e original\n",
    "IMG_SIZE = 300#'original'#Tamanho mxm e original\n",
    "\n",
    "formato = 'jpg'\n",
    "\n",
    "#nome_saida = \"mnist-train-2\"\n",
    "nome_saida = \"faces-treino-back-crop\"\n",
    "\n",
    "#local_saida = \"../bases/pickle/imagens/mnist/\"\n",
    "local_saida = \"../../../_DATA_/image/pickle/\""
   ]
  },
  {
   "cell_type": "code",
   "execution_count": 4,
   "id": "5dd37377-a99f-4741-92a5-e1c1fd9b94a2",
   "metadata": {
    "execution": {
     "iopub.execute_input": "2022-07-22T11:34:11.297715Z",
     "iopub.status.busy": "2022-07-22T11:34:11.297095Z",
     "iopub.status.idle": "2022-07-22T11:34:19.228792Z",
     "shell.execute_reply": "2022-07-22T11:34:19.227463Z",
     "shell.execute_reply.started": "2022-07-22T11:34:11.297655Z"
    }
   },
   "outputs": [],
   "source": [
    "pickle_in = open(DATADIR,\"rb\")\n",
    "dado = pickle.load(pickle_in)"
   ]
  },
  {
   "cell_type": "code",
   "execution_count": 5,
   "id": "9ba76649-f885-427f-b58e-864cc977250d",
   "metadata": {
    "execution": {
     "iopub.execute_input": "2022-07-22T11:34:19.230269Z",
     "iopub.status.busy": "2022-07-22T11:34:19.230081Z",
     "iopub.status.idle": "2022-07-22T11:34:19.237246Z",
     "shell.execute_reply": "2022-07-22T11:34:19.236563Z",
     "shell.execute_reply.started": "2022-07-22T11:34:19.230247Z"
    }
   },
   "outputs": [
    {
     "name": "stdout",
     "output_type": "stream",
     "text": [
      "300\n",
      "4050\n"
     ]
    }
   ],
   "source": [
    "print(len(dado[0][0]))\n",
    "print(len(dado))"
   ]
  },
  {
   "cell_type": "code",
   "execution_count": 6,
   "id": "2ad5189c-6d19-42bc-b244-c0533b504192",
   "metadata": {
    "execution": {
     "iopub.execute_input": "2022-07-22T11:34:19.238187Z",
     "iopub.status.busy": "2022-07-22T11:34:19.238017Z"
    }
   },
   "outputs": [
    {
     "name": "stderr",
     "output_type": "stream",
     "text": [
      " 20%|██        | 819/4050 [00:41<02:22, 22.65it/s]"
     ]
    }
   ],
   "source": [
    "sim = 0\n",
    "nao = 0\n",
    "\n",
    "for i in tqdm(range(len(dado))):\n",
    "    \n",
    "    aux = backgorund_remover(dado[i][0])\n",
    "    \n",
    "    aux, k = detect_faces(aux)\n",
    "    \n",
    "    aux = cv2.resize(aux, (150, 150))\n",
    "    \n",
    "\n",
    "    if k:\n",
    "        sim += 1\n",
    "\n",
    "    else:\n",
    "        nao += 1\n",
    "    \n",
    "  \n",
    "    dado[i][0] = aux"
   ]
  },
  {
   "cell_type": "code",
   "execution_count": null,
   "id": "1dc9693c-d90d-4d46-b34c-67ad1183d813",
   "metadata": {
    "tags": []
   },
   "outputs": [],
   "source": [
    "print(sim)\n",
    "print(nao)"
   ]
  },
  {
   "cell_type": "code",
   "execution_count": null,
   "id": "7fa6d743-a1e4-4cc2-97ac-4e09b087c172",
   "metadata": {
    "tags": []
   },
   "outputs": [],
   "source": [
    "def save_data(save_name, data):\n",
    "    pickle_out = open(save_name+\"-pickle.pickle\",\"wb\")\n",
    "    print('Arquivo gravado como: '+save_name+\"-pickle.pickle\")\n",
    "    pickle.dump(data, pickle_out)\n",
    "    pickle_out.close()"
   ]
  },
  {
   "cell_type": "code",
   "execution_count": null,
   "id": "c76b788f-bab2-471f-80f1-a9a5ad0f6421",
   "metadata": {
    "tags": []
   },
   "outputs": [],
   "source": [
    "save_data(local_saida+nome_saida, dado)"
   ]
  }
 ],
 "metadata": {
  "kernelspec": {
   "display_name": "Python 3.10.4 ('IA-env')",
   "language": "python",
   "name": "python3"
  },
  "language_info": {
   "codemirror_mode": {
    "name": "ipython",
    "version": 3
   },
   "file_extension": ".py",
   "mimetype": "text/x-python",
   "name": "python",
   "nbconvert_exporter": "python",
   "pygments_lexer": "ipython3",
   "version": "3.10.4"
  },
  "vscode": {
   "interpreter": {
    "hash": "039eedbdc3eafb3ff56e892b04b49d9f6f15fe71eac5c31af6e138083d479011"
   }
  }
 },
 "nbformat": 4,
 "nbformat_minor": 5
}
