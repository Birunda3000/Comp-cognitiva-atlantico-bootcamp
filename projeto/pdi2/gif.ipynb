{
 "cells": [
  {
   "cell_type": "code",
   "execution_count": 7,
   "metadata": {},
   "outputs": [],
   "source": [
    "import os\n",
    "import pathlib\n"
   ]
  },
  {
   "cell_type": "code",
   "execution_count": null,
   "metadata": {},
   "outputs": [],
   "source": []
  },
  {
   "cell_type": "code",
   "execution_count": 8,
   "metadata": {},
   "outputs": [
    {
     "name": "stdout",
     "output_type": "stream",
     "text": [
      "True\n",
      "4\n"
     ]
    }
   ],
   "source": [
    "\n",
    "# Reading an animated GIF file using Python Image Processing Library - Pillow\n",
    "\n",
    "from PIL import Image\n",
    "\n",
    "from PIL import GifImagePlugin\n",
    "\n",
    " \n",
    "\n",
    "imageObject = Image.open(\"teste.gif\")\n",
    "\n",
    "print(imageObject.is_animated)\n",
    "\n",
    "print(imageObject.n_frames)\n",
    "\n",
    "# Display individual frames from the loaded animated GIF file\n",
    "\n",
    "for frame in range(0,imageObject.n_frames):\n",
    "\n",
    "    imageObject.seek(frame)\n",
    "\n",
    "    imageObject.show()"
   ]
  }
 ],
 "metadata": {
  "kernelspec": {
   "display_name": "Python 3.10.4 ('IA-env')",
   "language": "python",
   "name": "python3"
  },
  "language_info": {
   "codemirror_mode": {
    "name": "ipython",
    "version": 3
   },
   "file_extension": ".py",
   "mimetype": "text/x-python",
   "name": "python",
   "nbconvert_exporter": "python",
   "pygments_lexer": "ipython3",
   "version": "3.10.4"
  },
  "orig_nbformat": 4,
  "vscode": {
   "interpreter": {
    "hash": "039eedbdc3eafb3ff56e892b04b49d9f6f15fe71eac5c31af6e138083d479011"
   }
  }
 },
 "nbformat": 4,
 "nbformat_minor": 2
}
