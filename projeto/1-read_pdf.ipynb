{
 "cells": [
  {
   "cell_type": "markdown",
   "id": "1660655e-61fd-4fb4-83e9-af1cfd80630d",
   "metadata": {},
   "source": [
    "ler pdf"
   ]
  },
  {
   "cell_type": "code",
   "execution_count": 1,
   "id": "783215ce-db6d-468e-b08b-b2aeebadf258",
   "metadata": {},
   "outputs": [
    {
     "name": "stdin",
     "output_type": "stream",
     "text": [
      "Caminho dos documentos docs\n"
     ]
    }
   ],
   "source": [
    "import os\n",
    "import pathlib\n",
    "import pdfplumber\n",
    "import re\n",
    "\n",
    "def pdf_check (string):\n",
    "    if '.pdf' in string:\n",
    "        return True\n",
    "    else:\n",
    "        return False\n",
    "\n",
    "DATADIR = \"docs\"\n",
    "DATADIR = str(input(\"Caminho dos documentos\"))\n",
    "DATADIR = pathlib.Path(DATADIR)\n",
    "\n",
    "OUTDIR = \"text\"\n",
    "OUTDIR = pathlib.Path(OUTDIR)\n",
    "\n",
    "PDFs = os.listdir(DATADIR)\n",
    "PDFs.sort()\n",
    "\n",
    "filtered_object = filter(pdf_check, PDFs)\n",
    "PDFs = list(filtered_object)\n",
    "\n",
    "for pdf in PDFs:\n",
    "    path = os.path.join(DATADIR, pdf)\n",
    "    temp = pdfplumber.open(path)\n",
    "    for page in temp.pages:\n",
    "        with open('text/' + re.sub(r\"[.]\",\"-\",pdf) + '.txt', \"w\") as text_file:\n",
    "            text_file.write(page.extract_text())"
   ]
  },
  {
   "cell_type": "code",
   "execution_count": null,
   "id": "220c7133-216d-4040-af06-2dcae26ab933",
   "metadata": {},
   "outputs": [],
   "source": []
  }
 ],
 "metadata": {
  "kernelspec": {
   "display_name": "Python 3",
   "language": "python",
   "name": "python3"
  },
  "language_info": {
   "codemirror_mode": {
    "name": "ipython",
    "version": 3
   },
   "file_extension": ".py",
   "mimetype": "text/x-python",
   "name": "python",
   "nbconvert_exporter": "python",
   "pygments_lexer": "ipython3",
   "version": "3.8.10"
  },
  "widgets": {
   "application/vnd.jupyter.widget-state+json": {
    "state": {},
    "version_major": 2,
    "version_minor": 0
   }
  }
 },
 "nbformat": 4,
 "nbformat_minor": 5
}
